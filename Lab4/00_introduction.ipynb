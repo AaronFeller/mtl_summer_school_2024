{
 "cells": [
  {
   "cell_type": "markdown",
   "metadata": {},
   "source": [
    "# Lab 4: Transcriptomics and Target Deconvolution \n",
    "\n",
    "\n",
    "**Goal**: Use transcritomics to look at the effect of a drug on a cellular system and wholistically evaluate direct and indirect effects. "
   ]
  },
  {
   "cell_type": "markdown",
   "metadata": {},
   "source": [
    "## Content\n",
    "- [Concept](#concept)\n",
    "- [...](...)\n",
    "- [...](...)\n",
    "- [Lab recap](03_recap.ipynb)"
   ]
  },
  {
   "cell_type": "markdown",
   "metadata": {},
   "source": [
    "<a id=\"concept\"> </a>\n",
    "## Concept\n",
    "### Bio-assays in drug discovery\n",
    "\n",
    "[Add picture zooming out from protein-drug interaction, to complex/pathway, to organelle, cell, tissue, organ, organism]\n",
    "\n",
    "We can't model biological systems from fundamentals on up, so we want to combine _measurements_, i.e. bio-assays, with modelling to best enable drug discovery.\n",
    "\n",
    "Can measure from sub-cellular compartments through whole organisms; but cell lines are the work horse. \n",
    "\n",
    "### Transcriptomics\n",
    "#### Why\n",
    "[Cartoon plot on why, one axis with scalability, another with interpretability; add some misc points, e.g.  with transcriptomics being fairly balanced]\n",
    "\n",
    "May not be the best in all cases, but a generalist tool.\n",
    "\n",
    "#### What\n",
    "\n",
    "[Intro w/ central dogman of mol bio, intro w/ anaolgy]\n",
    "\n",
    "### Questions today\n",
    "Cell state, is it healthy or not, if not, then in what _way_ is it disrupted?\n",
    "\n",
    "Is _the biological effect of_ a small moelecule perturbant and knocking out potential proteing targets similar or different?\n"
   ]
  },
  {
   "cell_type": "markdown",
   "metadata": {
    "vscode": {
     "languageId": "plaintext"
    }
   },
   "source": [
    "## Next one-hour session \n",
    "\n",
    "..."
   ]
  },
  {
   "cell_type": "markdown",
   "metadata": {
    "vscode": {
     "languageId": "plaintext"
    }
   },
   "source": [
    "### Lab 4\n",
    "..."
   ]
  },
  {
   "cell_type": "markdown",
   "metadata": {},
   "source": [
    "# Questions?"
   ]
  }
 ],
 "metadata": {
  "kernelspec": {
   "display_name": "Python 3 (ipykernel)",
   "language": "python",
   "name": "python3"
  },
  "language_info": {
   "codemirror_mode": {
    "name": "ipython",
    "version": 3
   },
   "file_extension": ".py",
   "mimetype": "text/x-python",
   "name": "python",
   "nbconvert_exporter": "python",
   "pygments_lexer": "ipython3",
   "version": "3.9.7"
  }
 },
 "nbformat": 4,
 "nbformat_minor": 4
}
