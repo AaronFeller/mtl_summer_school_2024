{
 "cells": [
  {
   "cell_type": "code",
   "execution_count": 1,
   "metadata": {},
   "outputs": [],
   "source": [
    "# # Run the code below for setting up google colab enviroment\n",
    "# # install condacolab\n",
    "# !pip install -q condacolab\n",
    "# import condacolab\n",
    "# condacolab.install()\n",
    "\n",
    "# # copy from github\n",
    "# !git clone https://github.com/valence-labs/mtl_summer_school_2024.git\n",
    "\n",
    "# # change working directory\n",
    "# import os\n",
    "# os.chdir(\"mtl_summer_school_2024/Lab1\")\n",
    "\n",
    "# # install dependencies\n",
    "# !mamba env update -n base -f env.yml"
   ]
  },
  {
   "cell_type": "markdown",
   "metadata": {},
   "source": []
  },
  {
   "cell_type": "markdown",
   "metadata": {},
   "source": [
    "## Public Transcriptomics data\n",
    "build from https://github.com/cmap/cmapPy/blob/master/tutorials/cmapPy_pandasGEXpress_tutorial.ipynb"
   ]
  },
  {
   "cell_type": "markdown",
   "metadata": {},
   "source": [
    "## Batch effect handling\n",
    "concept, then center scale on controls + reading for those interested"
   ]
  },
  {
   "cell_type": "markdown",
   "metadata": {},
   "source": [
    "## Comparison to control and characterization\n",
    "\n",
    "Log fold change and GO enrichment... (if time permits)\n",
    "\n",
    "Pointing out that _this_ \n"
   ]
  },
  {
   "cell_type": "markdown",
   "metadata": {},
   "source": [
    "## Embedding & comparing effect of small molecules and genetic perturbations\n",
    "e.g. for target deconvolution & detecting off target effects\n",
    "\n",
    "still have not decided... everything that is good at embedding L1000 is complicated / bringing in a lot more info. "
   ]
  },
  {
   "cell_type": "code",
   "execution_count": null,
   "metadata": {},
   "outputs": [],
   "source": []
  }
 ],
 "metadata": {
  "kernelspec": {
   "display_name": "Python 3 (ipykernel)",
   "language": "python",
   "name": "python3"
  },
  "language_info": {
   "codemirror_mode": {
    "name": "ipython",
    "version": 3
   },
   "file_extension": ".py",
   "mimetype": "text/x-python",
   "name": "python",
   "nbconvert_exporter": "python",
   "pygments_lexer": "ipython3",
   "version": "3.9.7"
  }
 },
 "nbformat": 4,
 "nbformat_minor": 4
}
