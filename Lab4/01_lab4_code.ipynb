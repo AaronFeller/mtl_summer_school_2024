{
  "nbformat": 4,
  "nbformat_minor": 0,
  "metadata": {
    "colab": {
      "provenance": []
    },
    "kernelspec": {
      "name": "python3",
      "display_name": "Python 3"
    },
    "language_info": {
      "name": "python"
    }
  },
  "cells": [
    {
      "cell_type": "code",
      "source": [
        "#!pip install cmapPy\n",
        "#!pip install umap-learn"
      ],
      "metadata": {
        "colab": {
          "base_uri": "https://localhost:8080/"
        },
        "id": "QKjBzLO8RMUp",
        "outputId": "35a9ba4f-5520-4769-b48f-224166e87158"
      },
      "execution_count": null,
      "outputs": [
        {
          "output_type": "stream",
          "name": "stdout",
          "text": [
            "Collecting cmapPy\n",
            "  Downloading cmapPy-4.0.1-py2.py3-none-any.whl (150 kB)\n",
            "\u001b[2K     \u001b[90m━━━━━━━━━━━━━━━━━━━━━━━━━━━━━━━━━━━━━━━━\u001b[0m \u001b[32m150.2/150.2 kB\u001b[0m \u001b[31m1.7 MB/s\u001b[0m eta \u001b[36m0:00:00\u001b[0m\n",
            "\u001b[?25hRequirement already satisfied: h5py>=2.6.0 in /usr/local/lib/python3.10/dist-packages (from cmapPy) (3.9.0)\n",
            "Requirement already satisfied: numpy>=1.11.2 in /usr/local/lib/python3.10/dist-packages (from cmapPy) (1.25.2)\n",
            "Requirement already satisfied: pandas>=0.18 in /usr/local/lib/python3.10/dist-packages (from cmapPy) (2.0.3)\n",
            "Requirement already satisfied: requests>=2.13.0 in /usr/local/lib/python3.10/dist-packages (from cmapPy) (2.31.0)\n",
            "Requirement already satisfied: six in /usr/local/lib/python3.10/dist-packages (from cmapPy) (1.16.0)\n",
            "Requirement already satisfied: python-dateutil>=2.8.2 in /usr/local/lib/python3.10/dist-packages (from pandas>=0.18->cmapPy) (2.8.2)\n",
            "Requirement already satisfied: pytz>=2020.1 in /usr/local/lib/python3.10/dist-packages (from pandas>=0.18->cmapPy) (2023.4)\n",
            "Requirement already satisfied: tzdata>=2022.1 in /usr/local/lib/python3.10/dist-packages (from pandas>=0.18->cmapPy) (2024.1)\n",
            "Requirement already satisfied: charset-normalizer<4,>=2 in /usr/local/lib/python3.10/dist-packages (from requests>=2.13.0->cmapPy) (3.3.2)\n",
            "Requirement already satisfied: idna<4,>=2.5 in /usr/local/lib/python3.10/dist-packages (from requests>=2.13.0->cmapPy) (3.7)\n",
            "Requirement already satisfied: urllib3<3,>=1.21.1 in /usr/local/lib/python3.10/dist-packages (from requests>=2.13.0->cmapPy) (2.0.7)\n",
            "Requirement already satisfied: certifi>=2017.4.17 in /usr/local/lib/python3.10/dist-packages (from requests>=2.13.0->cmapPy) (2024.6.2)\n",
            "Installing collected packages: cmapPy\n",
            "Successfully installed cmapPy-4.0.1\n",
            "Collecting umap-learn\n",
            "  Downloading umap_learn-0.5.6-py3-none-any.whl (85 kB)\n",
            "\u001b[2K     \u001b[90m━━━━━━━━━━━━━━━━━━━━━━━━━━━━━━━━━━━━━━━━\u001b[0m \u001b[32m85.7/85.7 kB\u001b[0m \u001b[31m2.1 MB/s\u001b[0m eta \u001b[36m0:00:00\u001b[0m\n",
            "\u001b[?25hRequirement already satisfied: numpy>=1.17 in /usr/local/lib/python3.10/dist-packages (from umap-learn) (1.25.2)\n",
            "Requirement already satisfied: scipy>=1.3.1 in /usr/local/lib/python3.10/dist-packages (from umap-learn) (1.11.4)\n",
            "Requirement already satisfied: scikit-learn>=0.22 in /usr/local/lib/python3.10/dist-packages (from umap-learn) (1.2.2)\n",
            "Requirement already satisfied: numba>=0.51.2 in /usr/local/lib/python3.10/dist-packages (from umap-learn) (0.58.1)\n",
            "Collecting pynndescent>=0.5 (from umap-learn)\n",
            "  Downloading pynndescent-0.5.12-py3-none-any.whl (56 kB)\n",
            "\u001b[2K     \u001b[90m━━━━━━━━━━━━━━━━━━━━━━━━━━━━━━━━━━━━━━━━\u001b[0m \u001b[32m56.8/56.8 kB\u001b[0m \u001b[31m4.8 MB/s\u001b[0m eta \u001b[36m0:00:00\u001b[0m\n",
            "\u001b[?25hRequirement already satisfied: tqdm in /usr/local/lib/python3.10/dist-packages (from umap-learn) (4.66.4)\n",
            "Requirement already satisfied: llvmlite<0.42,>=0.41.0dev0 in /usr/local/lib/python3.10/dist-packages (from numba>=0.51.2->umap-learn) (0.41.1)\n",
            "Requirement already satisfied: joblib>=0.11 in /usr/local/lib/python3.10/dist-packages (from pynndescent>=0.5->umap-learn) (1.4.2)\n",
            "Requirement already satisfied: threadpoolctl>=2.0.0 in /usr/local/lib/python3.10/dist-packages (from scikit-learn>=0.22->umap-learn) (3.5.0)\n",
            "Installing collected packages: pynndescent, umap-learn\n",
            "Successfully installed pynndescent-0.5.12 umap-learn-0.5.6\n"
          ]
        }
      ]
    },
    {
      "cell_type": "code",
      "source": [
        "import pandas as pd\n",
        "import numpy as np\n",
        "import gzip\n",
        "import re\n",
        "from cmapPy.pandasGEXpress.parse import parse\n",
        "from matplotlib import pyplot as plt\n",
        "import umap\n",
        "import seaborn as sns\n",
        "import torch\n",
        "import torch.nn as nn\n",
        "import torch.nn.functional as F\n",
        "import torch.optim as optim\n",
        "from torch.utils.data import Dataset\n",
        "from torch.utils.data import DataLoader, random_split\n",
        "from sklearn.metrics.pairwise import cosine_similarity\n"
      ],
      "metadata": {
        "id": "yLud4fiuKwK4"
      },
      "execution_count": 78,
      "outputs": []
    },
    {
      "cell_type": "markdown",
      "source": [
        "Download expression and necessary metadata"
      ],
      "metadata": {
        "id": "vwRRTSHIKyQ1"
      }
    },
    {
      "cell_type": "code",
      "execution_count": null,
      "metadata": {
        "colab": {
          "base_uri": "https://localhost:8080/"
        },
        "id": "dD4UakOhJ7Ze",
        "outputId": "d4454c34-806c-403c-affa-fd39e7521fb0"
      },
      "outputs": [
        {
          "output_type": "stream",
          "name": "stdout",
          "text": [
            "--2024-06-15 00:38:35--  https://ftp.ncbi.nlm.nih.gov/geo/series/GSE70nnn/GSE70138/suppl/GSE70138_Broad_LINCS_inst_info_2017-03-06.txt.gz\n",
            "Resolving ftp.ncbi.nlm.nih.gov (ftp.ncbi.nlm.nih.gov)... 130.14.250.11, 130.14.250.12, 2607:f220:41e:250::12, ...\n",
            "Connecting to ftp.ncbi.nlm.nih.gov (ftp.ncbi.nlm.nih.gov)|130.14.250.11|:443... connected.\n",
            "HTTP request sent, awaiting response... 200 OK\n",
            "Length: 4783200 (4.6M) [application/x-gzip]\n",
            "Saving to: ‘GSE70138_Broad_LINCS_inst_info_2017-03-06.txt.gz’\n",
            "\n",
            "GSE70138_Broad_LINC 100%[===================>]   4.56M  2.87MB/s    in 1.6s    \n",
            "\n",
            "2024-06-15 00:38:37 (2.87 MB/s) - ‘GSE70138_Broad_LINCS_inst_info_2017-03-06.txt.gz’ saved [4783200/4783200]\n",
            "\n"
          ]
        }
      ],
      "source": [
        "!wget https://ftp.ncbi.nlm.nih.gov/geo/series/GSE70nnn/GSE70138/suppl/GSE70138_Broad_LINCS_inst_info_2017-03-06.txt.gz"
      ]
    },
    {
      "cell_type": "code",
      "source": [
        "!wget https://ftp.ncbi.nlm.nih.gov/geo/series/GSE70nnn/GSE70138/suppl/GSE70138_Broad_LINCS_Level2_GEX_n345976x978_2017-03-06.gctx.gz\n",
        "!gunzip GSE70138_Broad_LINCS_Level2_GEX_n345976x978_2017-03-06.gctx.gz"
      ],
      "metadata": {
        "colab": {
          "base_uri": "https://localhost:8080/"
        },
        "id": "eYAd6YkBOmnS",
        "outputId": "bc50da35-1046-47f7-840e-f08dfe1b160e"
      },
      "execution_count": null,
      "outputs": [
        {
          "output_type": "stream",
          "name": "stdout",
          "text": [
            "--2024-06-15 00:38:37--  https://ftp.ncbi.nlm.nih.gov/geo/series/GSE70nnn/GSE70138/suppl/GSE70138_Broad_LINCS_Level2_GEX_n345976x978_2017-03-06.gctx.gz\n",
            "Resolving ftp.ncbi.nlm.nih.gov (ftp.ncbi.nlm.nih.gov)... 130.14.250.11, 130.14.250.12, 2607:f220:41e:250::12, ...\n",
            "Connecting to ftp.ncbi.nlm.nih.gov (ftp.ncbi.nlm.nih.gov)|130.14.250.11|:443... connected.\n",
            "HTTP request sent, awaiting response... 200 OK\n",
            "Length: 668884165 (638M) [application/x-gzip]\n",
            "Saving to: ‘GSE70138_Broad_LINCS_Level2_GEX_n345976x978_2017-03-06.gctx.gz’\n",
            "\n",
            "GSE70138_Broad_LINC 100%[===================>] 637.90M  14.6MB/s    in 46s     \n",
            "\n",
            "2024-06-15 00:39:24 (13.9 MB/s) - ‘GSE70138_Broad_LINCS_Level2_GEX_n345976x978_2017-03-06.gctx.gz’ saved [668884165/668884165]\n",
            "\n"
          ]
        }
      ]
    },
    {
      "cell_type": "markdown",
      "source": [
        "### Import the metadata\n",
        "\n",
        "Please note the columns of particular interest\n",
        "- inst_id: ID col, used to join the metadata with the data\n",
        "- cell_id: cell line\n",
        "- det_plate: can be used as the experimental batch, i.e. all the wells with the same det_plate were ran together\n",
        "\n",
        "And especially columns relating to the perturbation:\n",
        "- pert_iname: human readable name of perturbant\n",
        "- pert_dose: concentration of perturbant\n",
        "- pert_time: time between perturbation and measurement CHECK!\n",
        "- pert_type: whether this perturbant is a negative control or treatment, and whether it's a small compound or genetic perturbation"
      ],
      "metadata": {
        "id": "vuKZjQDmK-xp"
      }
    },
    {
      "cell_type": "code",
      "source": [
        "inst_info = pd.read_csv(\"GSE70138_Broad_LINCS_inst_info_2017-03-06.txt.gz\", sep='\\t')\n",
        "inst_info.head()"
      ],
      "metadata": {
        "colab": {
          "base_uri": "https://localhost:8080/",
          "height": 206
        },
        "id": "iouwDa8iKWB2",
        "outputId": "97de8cba-7130-4728-b061-626c8273ac5b"
      },
      "execution_count": null,
      "outputs": [
        {
          "output_type": "execute_result",
          "data": {
            "text/plain": [
              "                       inst_id cell_id                det_plate det_well  \\\n",
              "0   LJP005_A375_24H_X1_B19:A03    A375   LJP005_A375_24H_X1_B19      A03   \n",
              "1  LPROT001_A375_6H_X1_B20:B03    A375  LPROT001_A375_6H_X1_B20      B03   \n",
              "2  LPROT001_A375_6H_X1_B20:B05    A375  LPROT001_A375_6H_X1_B20      B05   \n",
              "3  LPROT002_A375_6H_X1_B22:B03    A375  LPROT002_A375_6H_X1_B22      B03   \n",
              "4  LPROT002_A375_6H_X1_B22:B05    A375  LPROT002_A375_6H_X1_B22      B05   \n",
              "\n",
              "  pert_mfc_id  pert_dose pert_dose_unit pert_id pert_iname    pert_type  \\\n",
              "0        DMSO     -666.0           -666    DMSO       DMSO  ctl_vehicle   \n",
              "1        DMSO     -666.0           -666    DMSO       DMSO  ctl_vehicle   \n",
              "2        DMSO     -666.0           -666    DMSO       DMSO  ctl_vehicle   \n",
              "3        DMSO     -666.0           -666    DMSO       DMSO  ctl_vehicle   \n",
              "4        DMSO     -666.0           -666    DMSO       DMSO  ctl_vehicle   \n",
              "\n",
              "   pert_time pert_time_unit  \n",
              "0       24.0              h  \n",
              "1        6.0              h  \n",
              "2        6.0              h  \n",
              "3        6.0              h  \n",
              "4        6.0              h  "
            ],
            "text/html": [
              "\n",
              "  <div id=\"df-08ee15e9-cae3-40a4-abf6-79d1e024dc07\" class=\"colab-df-container\">\n",
              "    <div>\n",
              "<style scoped>\n",
              "    .dataframe tbody tr th:only-of-type {\n",
              "        vertical-align: middle;\n",
              "    }\n",
              "\n",
              "    .dataframe tbody tr th {\n",
              "        vertical-align: top;\n",
              "    }\n",
              "\n",
              "    .dataframe thead th {\n",
              "        text-align: right;\n",
              "    }\n",
              "</style>\n",
              "<table border=\"1\" class=\"dataframe\">\n",
              "  <thead>\n",
              "    <tr style=\"text-align: right;\">\n",
              "      <th></th>\n",
              "      <th>inst_id</th>\n",
              "      <th>cell_id</th>\n",
              "      <th>det_plate</th>\n",
              "      <th>det_well</th>\n",
              "      <th>pert_mfc_id</th>\n",
              "      <th>pert_dose</th>\n",
              "      <th>pert_dose_unit</th>\n",
              "      <th>pert_id</th>\n",
              "      <th>pert_iname</th>\n",
              "      <th>pert_type</th>\n",
              "      <th>pert_time</th>\n",
              "      <th>pert_time_unit</th>\n",
              "    </tr>\n",
              "  </thead>\n",
              "  <tbody>\n",
              "    <tr>\n",
              "      <th>0</th>\n",
              "      <td>LJP005_A375_24H_X1_B19:A03</td>\n",
              "      <td>A375</td>\n",
              "      <td>LJP005_A375_24H_X1_B19</td>\n",
              "      <td>A03</td>\n",
              "      <td>DMSO</td>\n",
              "      <td>-666.0</td>\n",
              "      <td>-666</td>\n",
              "      <td>DMSO</td>\n",
              "      <td>DMSO</td>\n",
              "      <td>ctl_vehicle</td>\n",
              "      <td>24.0</td>\n",
              "      <td>h</td>\n",
              "    </tr>\n",
              "    <tr>\n",
              "      <th>1</th>\n",
              "      <td>LPROT001_A375_6H_X1_B20:B03</td>\n",
              "      <td>A375</td>\n",
              "      <td>LPROT001_A375_6H_X1_B20</td>\n",
              "      <td>B03</td>\n",
              "      <td>DMSO</td>\n",
              "      <td>-666.0</td>\n",
              "      <td>-666</td>\n",
              "      <td>DMSO</td>\n",
              "      <td>DMSO</td>\n",
              "      <td>ctl_vehicle</td>\n",
              "      <td>6.0</td>\n",
              "      <td>h</td>\n",
              "    </tr>\n",
              "    <tr>\n",
              "      <th>2</th>\n",
              "      <td>LPROT001_A375_6H_X1_B20:B05</td>\n",
              "      <td>A375</td>\n",
              "      <td>LPROT001_A375_6H_X1_B20</td>\n",
              "      <td>B05</td>\n",
              "      <td>DMSO</td>\n",
              "      <td>-666.0</td>\n",
              "      <td>-666</td>\n",
              "      <td>DMSO</td>\n",
              "      <td>DMSO</td>\n",
              "      <td>ctl_vehicle</td>\n",
              "      <td>6.0</td>\n",
              "      <td>h</td>\n",
              "    </tr>\n",
              "    <tr>\n",
              "      <th>3</th>\n",
              "      <td>LPROT002_A375_6H_X1_B22:B03</td>\n",
              "      <td>A375</td>\n",
              "      <td>LPROT002_A375_6H_X1_B22</td>\n",
              "      <td>B03</td>\n",
              "      <td>DMSO</td>\n",
              "      <td>-666.0</td>\n",
              "      <td>-666</td>\n",
              "      <td>DMSO</td>\n",
              "      <td>DMSO</td>\n",
              "      <td>ctl_vehicle</td>\n",
              "      <td>6.0</td>\n",
              "      <td>h</td>\n",
              "    </tr>\n",
              "    <tr>\n",
              "      <th>4</th>\n",
              "      <td>LPROT002_A375_6H_X1_B22:B05</td>\n",
              "      <td>A375</td>\n",
              "      <td>LPROT002_A375_6H_X1_B22</td>\n",
              "      <td>B05</td>\n",
              "      <td>DMSO</td>\n",
              "      <td>-666.0</td>\n",
              "      <td>-666</td>\n",
              "      <td>DMSO</td>\n",
              "      <td>DMSO</td>\n",
              "      <td>ctl_vehicle</td>\n",
              "      <td>6.0</td>\n",
              "      <td>h</td>\n",
              "    </tr>\n",
              "  </tbody>\n",
              "</table>\n",
              "</div>\n",
              "    <div class=\"colab-df-buttons\">\n",
              "\n",
              "  <div class=\"colab-df-container\">\n",
              "    <button class=\"colab-df-convert\" onclick=\"convertToInteractive('df-08ee15e9-cae3-40a4-abf6-79d1e024dc07')\"\n",
              "            title=\"Convert this dataframe to an interactive table.\"\n",
              "            style=\"display:none;\">\n",
              "\n",
              "  <svg xmlns=\"http://www.w3.org/2000/svg\" height=\"24px\" viewBox=\"0 -960 960 960\">\n",
              "    <path d=\"M120-120v-720h720v720H120Zm60-500h600v-160H180v160Zm220 220h160v-160H400v160Zm0 220h160v-160H400v160ZM180-400h160v-160H180v160Zm440 0h160v-160H620v160ZM180-180h160v-160H180v160Zm440 0h160v-160H620v160Z\"/>\n",
              "  </svg>\n",
              "    </button>\n",
              "\n",
              "  <style>\n",
              "    .colab-df-container {\n",
              "      display:flex;\n",
              "      gap: 12px;\n",
              "    }\n",
              "\n",
              "    .colab-df-convert {\n",
              "      background-color: #E8F0FE;\n",
              "      border: none;\n",
              "      border-radius: 50%;\n",
              "      cursor: pointer;\n",
              "      display: none;\n",
              "      fill: #1967D2;\n",
              "      height: 32px;\n",
              "      padding: 0 0 0 0;\n",
              "      width: 32px;\n",
              "    }\n",
              "\n",
              "    .colab-df-convert:hover {\n",
              "      background-color: #E2EBFA;\n",
              "      box-shadow: 0px 1px 2px rgba(60, 64, 67, 0.3), 0px 1px 3px 1px rgba(60, 64, 67, 0.15);\n",
              "      fill: #174EA6;\n",
              "    }\n",
              "\n",
              "    .colab-df-buttons div {\n",
              "      margin-bottom: 4px;\n",
              "    }\n",
              "\n",
              "    [theme=dark] .colab-df-convert {\n",
              "      background-color: #3B4455;\n",
              "      fill: #D2E3FC;\n",
              "    }\n",
              "\n",
              "    [theme=dark] .colab-df-convert:hover {\n",
              "      background-color: #434B5C;\n",
              "      box-shadow: 0px 1px 3px 1px rgba(0, 0, 0, 0.15);\n",
              "      filter: drop-shadow(0px 1px 2px rgba(0, 0, 0, 0.3));\n",
              "      fill: #FFFFFF;\n",
              "    }\n",
              "  </style>\n",
              "\n",
              "    <script>\n",
              "      const buttonEl =\n",
              "        document.querySelector('#df-08ee15e9-cae3-40a4-abf6-79d1e024dc07 button.colab-df-convert');\n",
              "      buttonEl.style.display =\n",
              "        google.colab.kernel.accessAllowed ? 'block' : 'none';\n",
              "\n",
              "      async function convertToInteractive(key) {\n",
              "        const element = document.querySelector('#df-08ee15e9-cae3-40a4-abf6-79d1e024dc07');\n",
              "        const dataTable =\n",
              "          await google.colab.kernel.invokeFunction('convertToInteractive',\n",
              "                                                    [key], {});\n",
              "        if (!dataTable) return;\n",
              "\n",
              "        const docLinkHtml = 'Like what you see? Visit the ' +\n",
              "          '<a target=\"_blank\" href=https://colab.research.google.com/notebooks/data_table.ipynb>data table notebook</a>'\n",
              "          + ' to learn more about interactive tables.';\n",
              "        element.innerHTML = '';\n",
              "        dataTable['output_type'] = 'display_data';\n",
              "        await google.colab.output.renderOutput(dataTable, element);\n",
              "        const docLink = document.createElement('div');\n",
              "        docLink.innerHTML = docLinkHtml;\n",
              "        element.appendChild(docLink);\n",
              "      }\n",
              "    </script>\n",
              "  </div>\n",
              "\n",
              "\n",
              "<div id=\"df-966da2cf-a374-420f-b54a-a10ca5edc7d1\">\n",
              "  <button class=\"colab-df-quickchart\" onclick=\"quickchart('df-966da2cf-a374-420f-b54a-a10ca5edc7d1')\"\n",
              "            title=\"Suggest charts\"\n",
              "            style=\"display:none;\">\n",
              "\n",
              "<svg xmlns=\"http://www.w3.org/2000/svg\" height=\"24px\"viewBox=\"0 0 24 24\"\n",
              "     width=\"24px\">\n",
              "    <g>\n",
              "        <path d=\"M19 3H5c-1.1 0-2 .9-2 2v14c0 1.1.9 2 2 2h14c1.1 0 2-.9 2-2V5c0-1.1-.9-2-2-2zM9 17H7v-7h2v7zm4 0h-2V7h2v10zm4 0h-2v-4h2v4z\"/>\n",
              "    </g>\n",
              "</svg>\n",
              "  </button>\n",
              "\n",
              "<style>\n",
              "  .colab-df-quickchart {\n",
              "      --bg-color: #E8F0FE;\n",
              "      --fill-color: #1967D2;\n",
              "      --hover-bg-color: #E2EBFA;\n",
              "      --hover-fill-color: #174EA6;\n",
              "      --disabled-fill-color: #AAA;\n",
              "      --disabled-bg-color: #DDD;\n",
              "  }\n",
              "\n",
              "  [theme=dark] .colab-df-quickchart {\n",
              "      --bg-color: #3B4455;\n",
              "      --fill-color: #D2E3FC;\n",
              "      --hover-bg-color: #434B5C;\n",
              "      --hover-fill-color: #FFFFFF;\n",
              "      --disabled-bg-color: #3B4455;\n",
              "      --disabled-fill-color: #666;\n",
              "  }\n",
              "\n",
              "  .colab-df-quickchart {\n",
              "    background-color: var(--bg-color);\n",
              "    border: none;\n",
              "    border-radius: 50%;\n",
              "    cursor: pointer;\n",
              "    display: none;\n",
              "    fill: var(--fill-color);\n",
              "    height: 32px;\n",
              "    padding: 0;\n",
              "    width: 32px;\n",
              "  }\n",
              "\n",
              "  .colab-df-quickchart:hover {\n",
              "    background-color: var(--hover-bg-color);\n",
              "    box-shadow: 0 1px 2px rgba(60, 64, 67, 0.3), 0 1px 3px 1px rgba(60, 64, 67, 0.15);\n",
              "    fill: var(--button-hover-fill-color);\n",
              "  }\n",
              "\n",
              "  .colab-df-quickchart-complete:disabled,\n",
              "  .colab-df-quickchart-complete:disabled:hover {\n",
              "    background-color: var(--disabled-bg-color);\n",
              "    fill: var(--disabled-fill-color);\n",
              "    box-shadow: none;\n",
              "  }\n",
              "\n",
              "  .colab-df-spinner {\n",
              "    border: 2px solid var(--fill-color);\n",
              "    border-color: transparent;\n",
              "    border-bottom-color: var(--fill-color);\n",
              "    animation:\n",
              "      spin 1s steps(1) infinite;\n",
              "  }\n",
              "\n",
              "  @keyframes spin {\n",
              "    0% {\n",
              "      border-color: transparent;\n",
              "      border-bottom-color: var(--fill-color);\n",
              "      border-left-color: var(--fill-color);\n",
              "    }\n",
              "    20% {\n",
              "      border-color: transparent;\n",
              "      border-left-color: var(--fill-color);\n",
              "      border-top-color: var(--fill-color);\n",
              "    }\n",
              "    30% {\n",
              "      border-color: transparent;\n",
              "      border-left-color: var(--fill-color);\n",
              "      border-top-color: var(--fill-color);\n",
              "      border-right-color: var(--fill-color);\n",
              "    }\n",
              "    40% {\n",
              "      border-color: transparent;\n",
              "      border-right-color: var(--fill-color);\n",
              "      border-top-color: var(--fill-color);\n",
              "    }\n",
              "    60% {\n",
              "      border-color: transparent;\n",
              "      border-right-color: var(--fill-color);\n",
              "    }\n",
              "    80% {\n",
              "      border-color: transparent;\n",
              "      border-right-color: var(--fill-color);\n",
              "      border-bottom-color: var(--fill-color);\n",
              "    }\n",
              "    90% {\n",
              "      border-color: transparent;\n",
              "      border-bottom-color: var(--fill-color);\n",
              "    }\n",
              "  }\n",
              "</style>\n",
              "\n",
              "  <script>\n",
              "    async function quickchart(key) {\n",
              "      const quickchartButtonEl =\n",
              "        document.querySelector('#' + key + ' button');\n",
              "      quickchartButtonEl.disabled = true;  // To prevent multiple clicks.\n",
              "      quickchartButtonEl.classList.add('colab-df-spinner');\n",
              "      try {\n",
              "        const charts = await google.colab.kernel.invokeFunction(\n",
              "            'suggestCharts', [key], {});\n",
              "      } catch (error) {\n",
              "        console.error('Error during call to suggestCharts:', error);\n",
              "      }\n",
              "      quickchartButtonEl.classList.remove('colab-df-spinner');\n",
              "      quickchartButtonEl.classList.add('colab-df-quickchart-complete');\n",
              "    }\n",
              "    (() => {\n",
              "      let quickchartButtonEl =\n",
              "        document.querySelector('#df-966da2cf-a374-420f-b54a-a10ca5edc7d1 button');\n",
              "      quickchartButtonEl.style.display =\n",
              "        google.colab.kernel.accessAllowed ? 'block' : 'none';\n",
              "    })();\n",
              "  </script>\n",
              "</div>\n",
              "\n",
              "    </div>\n",
              "  </div>\n"
            ],
            "application/vnd.google.colaboratory.intrinsic+json": {
              "type": "dataframe",
              "variable_name": "inst_info"
            }
          },
          "metadata": {},
          "execution_count": 6
        }
      ]
    },
    {
      "cell_type": "markdown",
      "source": [
        "## Import the expression data\n",
        "\n",
        "Here we will work with lincs L1000 data, level 2.\n",
        "\n",
        "> Note that level 2 is _not_ the standardly recommend starting point as it often rather used with normalization, processing (such as imputation), batch correction (level 4), and aggregation (level 5). However we utilize this because\n",
        "- it surfaces many of the realistic challenges of working with _any_ expression data\n",
        "- it is much smaller, which is useful for a quick lab\n",
        "\n",
        "\n",
        "This data contains a matrix with\n",
        "\"landmark genes\" in the rows\n",
        "and \"samples\" or \"wells\" in the columns.\n",
        "The values are the the measured abundance of\n",
        "the mRNAs derived from the given\n",
        "landmark gene in a given sample.\n",
        "\n",
        "Landmark genes are a subset of ~1000 genes\n",
        "that are sufficient to predict much of the\n",
        "variation in all 20k genes. Only these 1000\n",
        "are measured in the l1000 data for cost reasons. This contrasts with _sequencing_ based transcriptomics, which is not selective for a subset of target genes.\n",
        "\n",
        "Find more information [in the paper](https://www.ncbi.nlm.nih.gov/pmc/articles/PMC5990023/)."
      ],
      "metadata": {
        "id": "hIseR7NhO4GN"
      }
    },
    {
      "cell_type": "code",
      "source": [
        "gene_abundance = parse(\"GSE70138_Broad_LINCS_Level2_GEX_n345976x978_2017-03-06.gctx\",\n",
        "                       convert_neg_666=True).data_df"
      ],
      "metadata": {
        "id": "_UbYF8_bO2QL"
      },
      "execution_count": null,
      "outputs": []
    },
    {
      "cell_type": "code",
      "source": [
        "gene_abundance.head()"
      ],
      "metadata": {
        "colab": {
          "base_uri": "https://localhost:8080/",
          "height": 287
        },
        "id": "2h6YTRocKPg3",
        "outputId": "d4c03adf-bac3-4d9f-c544-f9dfd444d093"
      },
      "execution_count": null,
      "outputs": [
        {
          "output_type": "execute_result",
          "data": {
            "text/plain": [
              "cid    REP.A001_A375_24H_X1_B22:A03  REP.A001_A375_24H_X1_B22:A04  \\\n",
              "rid                                                                 \n",
              "5720                         1431.0                         938.0   \n",
              "55847                        1270.0                         935.0   \n",
              "7416                         2831.0                        2266.0   \n",
              "10174                         164.0                         118.0   \n",
              "25803                         214.0                         183.0   \n",
              "\n",
              "cid    REP.A001_A375_24H_X1_B22:A05  REP.A001_A375_24H_X1_B22:A06  \\\n",
              "rid                                                                 \n",
              "5720                         1069.0                        1095.0   \n",
              "55847                        1036.0                         966.0   \n",
              "7416                         2593.0                        2349.0   \n",
              "10174                         154.0                         142.0   \n",
              "25803                         196.0                         195.0   \n",
              "\n",
              "cid    REP.A001_A375_24H_X1_B22:A07  REP.A001_A375_24H_X1_B22:A08  \\\n",
              "rid                                                                 \n",
              "5720                         1075.0                        1145.0   \n",
              "55847                        1147.0                        1056.0   \n",
              "7416                         2441.0                        2488.0   \n",
              "10174                         226.0                         151.0   \n",
              "25803                         168.0                         204.0   \n",
              "\n",
              "cid    REP.A001_A375_24H_X1_B22:A09  REP.A001_A375_24H_X1_B22:A10  \\\n",
              "rid                                                                 \n",
              "5720                          887.0                        1058.0   \n",
              "55847                         899.0                        1105.0   \n",
              "7416                         2264.0                        2540.0   \n",
              "10174                         193.0                         162.0   \n",
              "25803                         133.0                         220.0   \n",
              "\n",
              "cid    REP.A001_A375_24H_X1_B22:A11  REP.A001_A375_24H_X1_B22:A12  ...  \\\n",
              "rid                                                                ...   \n",
              "5720                         1310.0                        1183.0  ...   \n",
              "55847                        1329.0                        1262.0  ...   \n",
              "7416                         2531.0                        2590.0  ...   \n",
              "10174                         213.0                         164.0  ...   \n",
              "25803                         268.0                         225.0  ...   \n",
              "\n",
              "cid    XPR002_YAPC.311_96H_X3_B22:P15  XPR002_YAPC.311_96H_X3_B22:P16  \\\n",
              "rid                                                                     \n",
              "5720                           5390.0                          5057.0   \n",
              "55847                          1336.0                          1383.0   \n",
              "7416                           3401.0                          3470.0   \n",
              "10174                           382.0                           442.0   \n",
              "25803                           243.0                           248.0   \n",
              "\n",
              "cid    XPR002_YAPC.311_96H_X3_B22:P17  XPR002_YAPC.311_96H_X3_B22:P18  \\\n",
              "rid                                                                     \n",
              "5720                           5041.0                          4370.0   \n",
              "55847                          1525.0                          1157.0   \n",
              "7416                           3704.0                          2847.0   \n",
              "10174                           227.0                           261.0   \n",
              "25803                           407.0                           397.0   \n",
              "\n",
              "cid    XPR002_YAPC.311_96H_X3_B22:P19  XPR002_YAPC.311_96H_X3_B22:P20  \\\n",
              "rid                                                                     \n",
              "5720                           4274.0                          5009.0   \n",
              "55847                          1093.0                          1412.0   \n",
              "7416                           3032.0                          3736.0   \n",
              "10174                           204.0                           240.0   \n",
              "25803                           292.0                           415.0   \n",
              "\n",
              "cid    XPR002_YAPC.311_96H_X3_B22:P21  XPR002_YAPC.311_96H_X3_B22:P22  \\\n",
              "rid                                                                     \n",
              "5720                           5290.0                          4760.0   \n",
              "55847                          1599.0                          1255.0   \n",
              "7416                           3552.0                          3163.0   \n",
              "10174                           282.0                           276.0   \n",
              "25803                           462.0                           384.0   \n",
              "\n",
              "cid    XPR002_YAPC.311_96H_X3_B22:P23  XPR002_YAPC.311_96H_X3_B22:P24  \n",
              "rid                                                                    \n",
              "5720                           4900.0                          4510.0  \n",
              "55847                          1593.0                          1457.0  \n",
              "7416                           3320.0                          3303.0  \n",
              "10174                           478.0                           199.0  \n",
              "25803                           305.0                           331.0  \n",
              "\n",
              "[5 rows x 345976 columns]"
            ],
            "text/html": [
              "\n",
              "  <div id=\"df-fd2bf56a-7edc-49f1-bf98-954bb35e8d1b\" class=\"colab-df-container\">\n",
              "    <div>\n",
              "<style scoped>\n",
              "    .dataframe tbody tr th:only-of-type {\n",
              "        vertical-align: middle;\n",
              "    }\n",
              "\n",
              "    .dataframe tbody tr th {\n",
              "        vertical-align: top;\n",
              "    }\n",
              "\n",
              "    .dataframe thead th {\n",
              "        text-align: right;\n",
              "    }\n",
              "</style>\n",
              "<table border=\"1\" class=\"dataframe\">\n",
              "  <thead>\n",
              "    <tr style=\"text-align: right;\">\n",
              "      <th>cid</th>\n",
              "      <th>REP.A001_A375_24H_X1_B22:A03</th>\n",
              "      <th>REP.A001_A375_24H_X1_B22:A04</th>\n",
              "      <th>REP.A001_A375_24H_X1_B22:A05</th>\n",
              "      <th>REP.A001_A375_24H_X1_B22:A06</th>\n",
              "      <th>REP.A001_A375_24H_X1_B22:A07</th>\n",
              "      <th>REP.A001_A375_24H_X1_B22:A08</th>\n",
              "      <th>REP.A001_A375_24H_X1_B22:A09</th>\n",
              "      <th>REP.A001_A375_24H_X1_B22:A10</th>\n",
              "      <th>REP.A001_A375_24H_X1_B22:A11</th>\n",
              "      <th>REP.A001_A375_24H_X1_B22:A12</th>\n",
              "      <th>...</th>\n",
              "      <th>XPR002_YAPC.311_96H_X3_B22:P15</th>\n",
              "      <th>XPR002_YAPC.311_96H_X3_B22:P16</th>\n",
              "      <th>XPR002_YAPC.311_96H_X3_B22:P17</th>\n",
              "      <th>XPR002_YAPC.311_96H_X3_B22:P18</th>\n",
              "      <th>XPR002_YAPC.311_96H_X3_B22:P19</th>\n",
              "      <th>XPR002_YAPC.311_96H_X3_B22:P20</th>\n",
              "      <th>XPR002_YAPC.311_96H_X3_B22:P21</th>\n",
              "      <th>XPR002_YAPC.311_96H_X3_B22:P22</th>\n",
              "      <th>XPR002_YAPC.311_96H_X3_B22:P23</th>\n",
              "      <th>XPR002_YAPC.311_96H_X3_B22:P24</th>\n",
              "    </tr>\n",
              "    <tr>\n",
              "      <th>rid</th>\n",
              "      <th></th>\n",
              "      <th></th>\n",
              "      <th></th>\n",
              "      <th></th>\n",
              "      <th></th>\n",
              "      <th></th>\n",
              "      <th></th>\n",
              "      <th></th>\n",
              "      <th></th>\n",
              "      <th></th>\n",
              "      <th></th>\n",
              "      <th></th>\n",
              "      <th></th>\n",
              "      <th></th>\n",
              "      <th></th>\n",
              "      <th></th>\n",
              "      <th></th>\n",
              "      <th></th>\n",
              "      <th></th>\n",
              "      <th></th>\n",
              "      <th></th>\n",
              "    </tr>\n",
              "  </thead>\n",
              "  <tbody>\n",
              "    <tr>\n",
              "      <th>5720</th>\n",
              "      <td>1431.0</td>\n",
              "      <td>938.0</td>\n",
              "      <td>1069.0</td>\n",
              "      <td>1095.0</td>\n",
              "      <td>1075.0</td>\n",
              "      <td>1145.0</td>\n",
              "      <td>887.0</td>\n",
              "      <td>1058.0</td>\n",
              "      <td>1310.0</td>\n",
              "      <td>1183.0</td>\n",
              "      <td>...</td>\n",
              "      <td>5390.0</td>\n",
              "      <td>5057.0</td>\n",
              "      <td>5041.0</td>\n",
              "      <td>4370.0</td>\n",
              "      <td>4274.0</td>\n",
              "      <td>5009.0</td>\n",
              "      <td>5290.0</td>\n",
              "      <td>4760.0</td>\n",
              "      <td>4900.0</td>\n",
              "      <td>4510.0</td>\n",
              "    </tr>\n",
              "    <tr>\n",
              "      <th>55847</th>\n",
              "      <td>1270.0</td>\n",
              "      <td>935.0</td>\n",
              "      <td>1036.0</td>\n",
              "      <td>966.0</td>\n",
              "      <td>1147.0</td>\n",
              "      <td>1056.0</td>\n",
              "      <td>899.0</td>\n",
              "      <td>1105.0</td>\n",
              "      <td>1329.0</td>\n",
              "      <td>1262.0</td>\n",
              "      <td>...</td>\n",
              "      <td>1336.0</td>\n",
              "      <td>1383.0</td>\n",
              "      <td>1525.0</td>\n",
              "      <td>1157.0</td>\n",
              "      <td>1093.0</td>\n",
              "      <td>1412.0</td>\n",
              "      <td>1599.0</td>\n",
              "      <td>1255.0</td>\n",
              "      <td>1593.0</td>\n",
              "      <td>1457.0</td>\n",
              "    </tr>\n",
              "    <tr>\n",
              "      <th>7416</th>\n",
              "      <td>2831.0</td>\n",
              "      <td>2266.0</td>\n",
              "      <td>2593.0</td>\n",
              "      <td>2349.0</td>\n",
              "      <td>2441.0</td>\n",
              "      <td>2488.0</td>\n",
              "      <td>2264.0</td>\n",
              "      <td>2540.0</td>\n",
              "      <td>2531.0</td>\n",
              "      <td>2590.0</td>\n",
              "      <td>...</td>\n",
              "      <td>3401.0</td>\n",
              "      <td>3470.0</td>\n",
              "      <td>3704.0</td>\n",
              "      <td>2847.0</td>\n",
              "      <td>3032.0</td>\n",
              "      <td>3736.0</td>\n",
              "      <td>3552.0</td>\n",
              "      <td>3163.0</td>\n",
              "      <td>3320.0</td>\n",
              "      <td>3303.0</td>\n",
              "    </tr>\n",
              "    <tr>\n",
              "      <th>10174</th>\n",
              "      <td>164.0</td>\n",
              "      <td>118.0</td>\n",
              "      <td>154.0</td>\n",
              "      <td>142.0</td>\n",
              "      <td>226.0</td>\n",
              "      <td>151.0</td>\n",
              "      <td>193.0</td>\n",
              "      <td>162.0</td>\n",
              "      <td>213.0</td>\n",
              "      <td>164.0</td>\n",
              "      <td>...</td>\n",
              "      <td>382.0</td>\n",
              "      <td>442.0</td>\n",
              "      <td>227.0</td>\n",
              "      <td>261.0</td>\n",
              "      <td>204.0</td>\n",
              "      <td>240.0</td>\n",
              "      <td>282.0</td>\n",
              "      <td>276.0</td>\n",
              "      <td>478.0</td>\n",
              "      <td>199.0</td>\n",
              "    </tr>\n",
              "    <tr>\n",
              "      <th>25803</th>\n",
              "      <td>214.0</td>\n",
              "      <td>183.0</td>\n",
              "      <td>196.0</td>\n",
              "      <td>195.0</td>\n",
              "      <td>168.0</td>\n",
              "      <td>204.0</td>\n",
              "      <td>133.0</td>\n",
              "      <td>220.0</td>\n",
              "      <td>268.0</td>\n",
              "      <td>225.0</td>\n",
              "      <td>...</td>\n",
              "      <td>243.0</td>\n",
              "      <td>248.0</td>\n",
              "      <td>407.0</td>\n",
              "      <td>397.0</td>\n",
              "      <td>292.0</td>\n",
              "      <td>415.0</td>\n",
              "      <td>462.0</td>\n",
              "      <td>384.0</td>\n",
              "      <td>305.0</td>\n",
              "      <td>331.0</td>\n",
              "    </tr>\n",
              "  </tbody>\n",
              "</table>\n",
              "<p>5 rows × 345976 columns</p>\n",
              "</div>\n",
              "    <div class=\"colab-df-buttons\">\n",
              "\n",
              "  <div class=\"colab-df-container\">\n",
              "    <button class=\"colab-df-convert\" onclick=\"convertToInteractive('df-fd2bf56a-7edc-49f1-bf98-954bb35e8d1b')\"\n",
              "            title=\"Convert this dataframe to an interactive table.\"\n",
              "            style=\"display:none;\">\n",
              "\n",
              "  <svg xmlns=\"http://www.w3.org/2000/svg\" height=\"24px\" viewBox=\"0 -960 960 960\">\n",
              "    <path d=\"M120-120v-720h720v720H120Zm60-500h600v-160H180v160Zm220 220h160v-160H400v160Zm0 220h160v-160H400v160ZM180-400h160v-160H180v160Zm440 0h160v-160H620v160ZM180-180h160v-160H180v160Zm440 0h160v-160H620v160Z\"/>\n",
              "  </svg>\n",
              "    </button>\n",
              "\n",
              "  <style>\n",
              "    .colab-df-container {\n",
              "      display:flex;\n",
              "      gap: 12px;\n",
              "    }\n",
              "\n",
              "    .colab-df-convert {\n",
              "      background-color: #E8F0FE;\n",
              "      border: none;\n",
              "      border-radius: 50%;\n",
              "      cursor: pointer;\n",
              "      display: none;\n",
              "      fill: #1967D2;\n",
              "      height: 32px;\n",
              "      padding: 0 0 0 0;\n",
              "      width: 32px;\n",
              "    }\n",
              "\n",
              "    .colab-df-convert:hover {\n",
              "      background-color: #E2EBFA;\n",
              "      box-shadow: 0px 1px 2px rgba(60, 64, 67, 0.3), 0px 1px 3px 1px rgba(60, 64, 67, 0.15);\n",
              "      fill: #174EA6;\n",
              "    }\n",
              "\n",
              "    .colab-df-buttons div {\n",
              "      margin-bottom: 4px;\n",
              "    }\n",
              "\n",
              "    [theme=dark] .colab-df-convert {\n",
              "      background-color: #3B4455;\n",
              "      fill: #D2E3FC;\n",
              "    }\n",
              "\n",
              "    [theme=dark] .colab-df-convert:hover {\n",
              "      background-color: #434B5C;\n",
              "      box-shadow: 0px 1px 3px 1px rgba(0, 0, 0, 0.15);\n",
              "      filter: drop-shadow(0px 1px 2px rgba(0, 0, 0, 0.3));\n",
              "      fill: #FFFFFF;\n",
              "    }\n",
              "  </style>\n",
              "\n",
              "    <script>\n",
              "      const buttonEl =\n",
              "        document.querySelector('#df-fd2bf56a-7edc-49f1-bf98-954bb35e8d1b button.colab-df-convert');\n",
              "      buttonEl.style.display =\n",
              "        google.colab.kernel.accessAllowed ? 'block' : 'none';\n",
              "\n",
              "      async function convertToInteractive(key) {\n",
              "        const element = document.querySelector('#df-fd2bf56a-7edc-49f1-bf98-954bb35e8d1b');\n",
              "        const dataTable =\n",
              "          await google.colab.kernel.invokeFunction('convertToInteractive',\n",
              "                                                    [key], {});\n",
              "        if (!dataTable) return;\n",
              "\n",
              "        const docLinkHtml = 'Like what you see? Visit the ' +\n",
              "          '<a target=\"_blank\" href=https://colab.research.google.com/notebooks/data_table.ipynb>data table notebook</a>'\n",
              "          + ' to learn more about interactive tables.';\n",
              "        element.innerHTML = '';\n",
              "        dataTable['output_type'] = 'display_data';\n",
              "        await google.colab.output.renderOutput(dataTable, element);\n",
              "        const docLink = document.createElement('div');\n",
              "        docLink.innerHTML = docLinkHtml;\n",
              "        element.appendChild(docLink);\n",
              "      }\n",
              "    </script>\n",
              "  </div>\n",
              "\n",
              "\n",
              "<div id=\"df-0d3f593b-4544-4404-a3f4-cfcd72986be6\">\n",
              "  <button class=\"colab-df-quickchart\" onclick=\"quickchart('df-0d3f593b-4544-4404-a3f4-cfcd72986be6')\"\n",
              "            title=\"Suggest charts\"\n",
              "            style=\"display:none;\">\n",
              "\n",
              "<svg xmlns=\"http://www.w3.org/2000/svg\" height=\"24px\"viewBox=\"0 0 24 24\"\n",
              "     width=\"24px\">\n",
              "    <g>\n",
              "        <path d=\"M19 3H5c-1.1 0-2 .9-2 2v14c0 1.1.9 2 2 2h14c1.1 0 2-.9 2-2V5c0-1.1-.9-2-2-2zM9 17H7v-7h2v7zm4 0h-2V7h2v10zm4 0h-2v-4h2v4z\"/>\n",
              "    </g>\n",
              "</svg>\n",
              "  </button>\n",
              "\n",
              "<style>\n",
              "  .colab-df-quickchart {\n",
              "      --bg-color: #E8F0FE;\n",
              "      --fill-color: #1967D2;\n",
              "      --hover-bg-color: #E2EBFA;\n",
              "      --hover-fill-color: #174EA6;\n",
              "      --disabled-fill-color: #AAA;\n",
              "      --disabled-bg-color: #DDD;\n",
              "  }\n",
              "\n",
              "  [theme=dark] .colab-df-quickchart {\n",
              "      --bg-color: #3B4455;\n",
              "      --fill-color: #D2E3FC;\n",
              "      --hover-bg-color: #434B5C;\n",
              "      --hover-fill-color: #FFFFFF;\n",
              "      --disabled-bg-color: #3B4455;\n",
              "      --disabled-fill-color: #666;\n",
              "  }\n",
              "\n",
              "  .colab-df-quickchart {\n",
              "    background-color: var(--bg-color);\n",
              "    border: none;\n",
              "    border-radius: 50%;\n",
              "    cursor: pointer;\n",
              "    display: none;\n",
              "    fill: var(--fill-color);\n",
              "    height: 32px;\n",
              "    padding: 0;\n",
              "    width: 32px;\n",
              "  }\n",
              "\n",
              "  .colab-df-quickchart:hover {\n",
              "    background-color: var(--hover-bg-color);\n",
              "    box-shadow: 0 1px 2px rgba(60, 64, 67, 0.3), 0 1px 3px 1px rgba(60, 64, 67, 0.15);\n",
              "    fill: var(--button-hover-fill-color);\n",
              "  }\n",
              "\n",
              "  .colab-df-quickchart-complete:disabled,\n",
              "  .colab-df-quickchart-complete:disabled:hover {\n",
              "    background-color: var(--disabled-bg-color);\n",
              "    fill: var(--disabled-fill-color);\n",
              "    box-shadow: none;\n",
              "  }\n",
              "\n",
              "  .colab-df-spinner {\n",
              "    border: 2px solid var(--fill-color);\n",
              "    border-color: transparent;\n",
              "    border-bottom-color: var(--fill-color);\n",
              "    animation:\n",
              "      spin 1s steps(1) infinite;\n",
              "  }\n",
              "\n",
              "  @keyframes spin {\n",
              "    0% {\n",
              "      border-color: transparent;\n",
              "      border-bottom-color: var(--fill-color);\n",
              "      border-left-color: var(--fill-color);\n",
              "    }\n",
              "    20% {\n",
              "      border-color: transparent;\n",
              "      border-left-color: var(--fill-color);\n",
              "      border-top-color: var(--fill-color);\n",
              "    }\n",
              "    30% {\n",
              "      border-color: transparent;\n",
              "      border-left-color: var(--fill-color);\n",
              "      border-top-color: var(--fill-color);\n",
              "      border-right-color: var(--fill-color);\n",
              "    }\n",
              "    40% {\n",
              "      border-color: transparent;\n",
              "      border-right-color: var(--fill-color);\n",
              "      border-top-color: var(--fill-color);\n",
              "    }\n",
              "    60% {\n",
              "      border-color: transparent;\n",
              "      border-right-color: var(--fill-color);\n",
              "    }\n",
              "    80% {\n",
              "      border-color: transparent;\n",
              "      border-right-color: var(--fill-color);\n",
              "      border-bottom-color: var(--fill-color);\n",
              "    }\n",
              "    90% {\n",
              "      border-color: transparent;\n",
              "      border-bottom-color: var(--fill-color);\n",
              "    }\n",
              "  }\n",
              "</style>\n",
              "\n",
              "  <script>\n",
              "    async function quickchart(key) {\n",
              "      const quickchartButtonEl =\n",
              "        document.querySelector('#' + key + ' button');\n",
              "      quickchartButtonEl.disabled = true;  // To prevent multiple clicks.\n",
              "      quickchartButtonEl.classList.add('colab-df-spinner');\n",
              "      try {\n",
              "        const charts = await google.colab.kernel.invokeFunction(\n",
              "            'suggestCharts', [key], {});\n",
              "      } catch (error) {\n",
              "        console.error('Error during call to suggestCharts:', error);\n",
              "      }\n",
              "      quickchartButtonEl.classList.remove('colab-df-spinner');\n",
              "      quickchartButtonEl.classList.add('colab-df-quickchart-complete');\n",
              "    }\n",
              "    (() => {\n",
              "      let quickchartButtonEl =\n",
              "        document.querySelector('#df-0d3f593b-4544-4404-a3f4-cfcd72986be6 button');\n",
              "      quickchartButtonEl.style.display =\n",
              "        google.colab.kernel.accessAllowed ? 'block' : 'none';\n",
              "    })();\n",
              "  </script>\n",
              "</div>\n",
              "\n",
              "    </div>\n",
              "  </div>\n"
            ],
            "application/vnd.google.colaboratory.intrinsic+json": {
              "type": "dataframe",
              "variable_name": "gene_abundance"
            }
          },
          "metadata": {},
          "execution_count": 8
        }
      ]
    },
    {
      "cell_type": "markdown",
      "source": [
        "#### Data distribution\n",
        "Transcriptomics data is generally not normally distributed, while many of the losses or metrics we use in ML work better with normally distributed data. The l1000 is not count data, but we can still see it's not normal"
      ],
      "metadata": {
        "id": "MiDd_xmaUBG0"
      }
    },
    {
      "cell_type": "code",
      "source": [
        "# note the long tail\n",
        "_ = plt.hist(gene_abundance.iloc[:,:300].values.flatten(), bins=300)"
      ],
      "metadata": {
        "colab": {
          "base_uri": "https://localhost:8080/",
          "height": 435
        },
        "id": "SFlOmr74KahX",
        "outputId": "d69f5e87-0dcd-47bc-c823-2d2f0e2eb88f"
      },
      "execution_count": null,
      "outputs": [
        {
          "output_type": "display_data",
          "data": {
            "text/plain": [
              "<Figure size 640x480 with 1 Axes>"
            ],
            "image/png": "[encoded data removed]"
          },
          "metadata": {}
        }
      ]
    },
    {
      "cell_type": "code",
      "source": [],
      "metadata": {
        "id": "kmhe1CSQp6oG"
      },
      "execution_count": null,
      "outputs": []
    },
    {
      "cell_type": "markdown",
      "source": [
        "> Note: the following normalization and scaling differs from the recomendation for l1000 for the sake of simplicity and showing general steps which apply to many transcriptomics types. For l1000 outside of this lab, you can simply take the level 4 or 5 pre-normalized data, or take a look at the author's [write up of \"Level 3 - Normalization (NORM)\"](https://www.ncbi.nlm.nih.gov/pmc/articles/PMC5990023/#S40title). For sequencing data, a few good options are to either use raw counts and adjust loss & metrics for a negative binomial distribution _or_ one could perform variance stabilizing transformation with e.g. [DESeq2](https://bioconductor.org/packages/release/bioc/html/DESeq2.html)."
      ],
      "metadata": {
        "id": "Vcc9Bc3pp8DZ"
      }
    },
    {
      "cell_type": "code",
      "source": [
        "# log transform\n",
        "gene_normalized = np.log(gene_abundance.values) + 0.001\n",
        "# scale each sample to same total abundance\n",
        "gene_normalized = gene_normalized / np.mean(gene_normalized, axis=0) * np.mean(gene_normalized)\n",
        "# center at 0\n",
        "gene_normalized = gene_normalized - np.mean(gene_normalized)\n"
      ],
      "metadata": {
        "id": "XYUNc4wSr2bq"
      },
      "execution_count": null,
      "outputs": []
    },
    {
      "cell_type": "code",
      "source": [
        "_ = plt.hist(gene_normalized[:,:30000].flatten(), bins=300)"
      ],
      "metadata": {
        "colab": {
          "base_uri": "https://localhost:8080/",
          "height": 430
        },
        "id": "E7WFgW1EsiUK",
        "outputId": "f610cd36-7d19-4e27-c807-f1622a2fdf9b"
      },
      "execution_count": null,
      "outputs": [
        {
          "output_type": "display_data",
          "data": {
            "text/plain": [
              "<Figure size 640x480 with 1 Axes>"
            ],
            "image/png": "[encoded data removed]"
          },
          "metadata": {}
        }
      ]
    },
    {
      "cell_type": "markdown",
      "source": [
        "While the transformations have not resulted in a perfect normal distribution, it is bell shaped and does not have extreme outliers. We'll consider this good enough to work with.\n",
        "\n",
        "Now let's look at subgroups and structures in the data with a UMAP."
      ],
      "metadata": {
        "id": "0LjltGdcVyF_"
      }
    },
    {
      "cell_type": "code",
      "source": [
        "reducer = umap.UMAP()\n"
      ],
      "metadata": {
        "id": "tNU950Zpv5vN"
      },
      "execution_count": null,
      "outputs": []
    },
    {
      "cell_type": "code",
      "source": [
        "# visualization tends to be clearer (and faster)\n",
        "# work better when we don't take the _full_ perturbation data\n",
        "N = 10000\n",
        "embedding = reducer.fit_transform(gene_normalized[:,:N].T)\n",
        "embedding.shape"
      ],
      "metadata": {
        "colab": {
          "base_uri": "https://localhost:8080/"
        },
        "id": "QyuX-wPtwuKc",
        "outputId": "55fb4251-05e5-44cd-b76b-0805c22e4734"
      },
      "execution_count": null,
      "outputs": [
        {
          "output_type": "execute_result",
          "data": {
            "text/plain": [
              "(10000, 2)"
            ]
          },
          "metadata": {},
          "execution_count": 18
        }
      ]
    },
    {
      "cell_type": "code",
      "source": [
        "# rearrange and join with metadata for seaborn\n",
        "dat = pd.DataFrame(embedding)\n",
        "dat[\"inst_id\"] = gene_abundance.columns[:N]\n",
        "dat = dat.merge(inst_info, on='inst_id')"
      ],
      "metadata": {
        "id": "qg4oNSOIxNvi"
      },
      "execution_count": null,
      "outputs": []
    },
    {
      "cell_type": "code",
      "source": [
        "dat.head()"
      ],
      "metadata": {
        "colab": {
          "base_uri": "https://localhost:8080/",
          "height": 206
        },
        "id": "QcdcB5szxmw3",
        "outputId": "43cc4127-9467-44bb-e1ff-e091bd6e63b6"
      },
      "execution_count": null,
      "outputs": [
        {
          "output_type": "execute_result",
          "data": {
            "text/plain": [
              "          0         1                       inst_id cell_id  \\\n",
              "0  5.588719 -1.767206  REP.A001_A375_24H_X1_B22:A03    A375   \n",
              "1  5.976889 -2.457912  REP.A001_A375_24H_X1_B22:A04    A375   \n",
              "2  5.730121 -1.883573  REP.A001_A375_24H_X1_B22:A05    A375   \n",
              "3  5.677215 -1.912449  REP.A001_A375_24H_X1_B22:A06    A375   \n",
              "4  5.842314 -2.561303  REP.A001_A375_24H_X1_B22:A07    A375   \n",
              "\n",
              "                  det_plate det_well             pert_mfc_id  pert_dose  \\\n",
              "0  REP.A001_A375_24H_X1_B22      A03                    -666     -666.0   \n",
              "1  REP.A001_A375_24H_X1_B22      A04                    -666     -666.0   \n",
              "2  REP.A001_A375_24H_X1_B22      A05                    -666     -666.0   \n",
              "3  REP.A001_A375_24H_X1_B22      A06                    -666     -666.0   \n",
              "4  REP.A001_A375_24H_X1_B22      A07  BRD-K25114078-003-08-1       10.0   \n",
              "\n",
              "  pert_dose_unit        pert_id      pert_iname    pert_type  pert_time  \\\n",
              "0           -666           DMSO            DMSO  ctl_vehicle       24.0   \n",
              "1           -666           DMSO            DMSO  ctl_vehicle       24.0   \n",
              "2           -666           DMSO            DMSO  ctl_vehicle       24.0   \n",
              "3           -666           DMSO            DMSO  ctl_vehicle       24.0   \n",
              "4             um  BRD-K25114078  aminoguanidine       trt_cp       24.0   \n",
              "\n",
              "  pert_time_unit  \n",
              "0              h  \n",
              "1              h  \n",
              "2              h  \n",
              "3              h  \n",
              "4              h  "
            ],
            "text/html": [
              "\n",
              "  <div id=\"df-328addb4-ea1a-4755-ac85-39896d33c1a6\" class=\"colab-df-container\">\n",
              "    <div>\n",
              "<style scoped>\n",
              "    .dataframe tbody tr th:only-of-type {\n",
              "        vertical-align: middle;\n",
              "    }\n",
              "\n",
              "    .dataframe tbody tr th {\n",
              "        vertical-align: top;\n",
              "    }\n",
              "\n",
              "    .dataframe thead th {\n",
              "        text-align: right;\n",
              "    }\n",
              "</style>\n",
              "<table border=\"1\" class=\"dataframe\">\n",
              "  <thead>\n",
              "    <tr style=\"text-align: right;\">\n",
              "      <th></th>\n",
              "      <th>0</th>\n",
              "      <th>1</th>\n",
              "      <th>inst_id</th>\n",
              "      <th>cell_id</th>\n",
              "      <th>det_plate</th>\n",
              "      <th>det_well</th>\n",
              "      <th>pert_mfc_id</th>\n",
              "      <th>pert_dose</th>\n",
              "      <th>pert_dose_unit</th>\n",
              "      <th>pert_id</th>\n",
              "      <th>pert_iname</th>\n",
              "      <th>pert_type</th>\n",
              "      <th>pert_time</th>\n",
              "      <th>pert_time_unit</th>\n",
              "    </tr>\n",
              "  </thead>\n",
              "  <tbody>\n",
              "    <tr>\n",
              "      <th>0</th>\n",
              "      <td>5.588719</td>\n",
              "      <td>-1.767206</td>\n",
              "      <td>REP.A001_A375_24H_X1_B22:A03</td>\n",
              "      <td>A375</td>\n",
              "      <td>REP.A001_A375_24H_X1_B22</td>\n",
              "      <td>A03</td>\n",
              "      <td>-666</td>\n",
              "      <td>-666.0</td>\n",
              "      <td>-666</td>\n",
              "      <td>DMSO</td>\n",
              "      <td>DMSO</td>\n",
              "      <td>ctl_vehicle</td>\n",
              "      <td>24.0</td>\n",
              "      <td>h</td>\n",
              "    </tr>\n",
              "    <tr>\n",
              "      <th>1</th>\n",
              "      <td>5.976889</td>\n",
              "      <td>-2.457912</td>\n",
              "      <td>REP.A001_A375_24H_X1_B22:A04</td>\n",
              "      <td>A375</td>\n",
              "      <td>REP.A001_A375_24H_X1_B22</td>\n",
              "      <td>A04</td>\n",
              "      <td>-666</td>\n",
              "      <td>-666.0</td>\n",
              "      <td>-666</td>\n",
              "      <td>DMSO</td>\n",
              "      <td>DMSO</td>\n",
              "      <td>ctl_vehicle</td>\n",
              "      <td>24.0</td>\n",
              "      <td>h</td>\n",
              "    </tr>\n",
              "    <tr>\n",
              "      <th>2</th>\n",
              "      <td>5.730121</td>\n",
              "      <td>-1.883573</td>\n",
              "      <td>REP.A001_A375_24H_X1_B22:A05</td>\n",
              "      <td>A375</td>\n",
              "      <td>REP.A001_A375_24H_X1_B22</td>\n",
              "      <td>A05</td>\n",
              "      <td>-666</td>\n",
              "      <td>-666.0</td>\n",
              "      <td>-666</td>\n",
              "      <td>DMSO</td>\n",
              "      <td>DMSO</td>\n",
              "      <td>ctl_vehicle</td>\n",
              "      <td>24.0</td>\n",
              "      <td>h</td>\n",
              "    </tr>\n",
              "    <tr>\n",
              "      <th>3</th>\n",
              "      <td>5.677215</td>\n",
              "      <td>-1.912449</td>\n",
              "      <td>REP.A001_A375_24H_X1_B22:A06</td>\n",
              "      <td>A375</td>\n",
              "      <td>REP.A001_A375_24H_X1_B22</td>\n",
              "      <td>A06</td>\n",
              "      <td>-666</td>\n",
              "      <td>-666.0</td>\n",
              "      <td>-666</td>\n",
              "      <td>DMSO</td>\n",
              "      <td>DMSO</td>\n",
              "      <td>ctl_vehicle</td>\n",
              "      <td>24.0</td>\n",
              "      <td>h</td>\n",
              "    </tr>\n",
              "    <tr>\n",
              "      <th>4</th>\n",
              "      <td>5.842314</td>\n",
              "      <td>-2.561303</td>\n",
              "      <td>REP.A001_A375_24H_X1_B22:A07</td>\n",
              "      <td>A375</td>\n",
              "      <td>REP.A001_A375_24H_X1_B22</td>\n",
              "      <td>A07</td>\n",
              "      <td>BRD-K25114078-003-08-1</td>\n",
              "      <td>10.0</td>\n",
              "      <td>um</td>\n",
              "      <td>BRD-K25114078</td>\n",
              "      <td>aminoguanidine</td>\n",
              "      <td>trt_cp</td>\n",
              "      <td>24.0</td>\n",
              "      <td>h</td>\n",
              "    </tr>\n",
              "  </tbody>\n",
              "</table>\n",
              "</div>\n",
              "    <div class=\"colab-df-buttons\">\n",
              "\n",
              "  <div class=\"colab-df-container\">\n",
              "    <button class=\"colab-df-convert\" onclick=\"convertToInteractive('df-328addb4-ea1a-4755-ac85-39896d33c1a6')\"\n",
              "            title=\"Convert this dataframe to an interactive table.\"\n",
              "            style=\"display:none;\">\n",
              "\n",
              "  <svg xmlns=\"http://www.w3.org/2000/svg\" height=\"24px\" viewBox=\"0 -960 960 960\">\n",
              "    <path d=\"M120-120v-720h720v720H120Zm60-500h600v-160H180v160Zm220 220h160v-160H400v160Zm0 220h160v-160H400v160ZM180-400h160v-160H180v160Zm440 0h160v-160H620v160ZM180-180h160v-160H180v160Zm440 0h160v-160H620v160Z\"/>\n",
              "  </svg>\n",
              "    </button>\n",
              "\n",
              "  <style>\n",
              "    .colab-df-container {\n",
              "      display:flex;\n",
              "      gap: 12px;\n",
              "    }\n",
              "\n",
              "    .colab-df-convert {\n",
              "      background-color: #E8F0FE;\n",
              "      border: none;\n",
              "      border-radius: 50%;\n",
              "      cursor: pointer;\n",
              "      display: none;\n",
              "      fill: #1967D2;\n",
              "      height: 32px;\n",
              "      padding: 0 0 0 0;\n",
              "      width: 32px;\n",
              "    }\n",
              "\n",
              "    .colab-df-convert:hover {\n",
              "      background-color: #E2EBFA;\n",
              "      box-shadow: 0px 1px 2px rgba(60, 64, 67, 0.3), 0px 1px 3px 1px rgba(60, 64, 67, 0.15);\n",
              "      fill: #174EA6;\n",
              "    }\n",
              "\n",
              "    .colab-df-buttons div {\n",
              "      margin-bottom: 4px;\n",
              "    }\n",
              "\n",
              "    [theme=dark] .colab-df-convert {\n",
              "      background-color: #3B4455;\n",
              "      fill: #D2E3FC;\n",
              "    }\n",
              "\n",
              "    [theme=dark] .colab-df-convert:hover {\n",
              "      background-color: #434B5C;\n",
              "      box-shadow: 0px 1px 3px 1px rgba(0, 0, 0, 0.15);\n",
              "      filter: drop-shadow(0px 1px 2px rgba(0, 0, 0, 0.3));\n",
              "      fill: #FFFFFF;\n",
              "    }\n",
              "  </style>\n",
              "\n",
              "    <script>\n",
              "      const buttonEl =\n",
              "        document.querySelector('#df-328addb4-ea1a-4755-ac85-39896d33c1a6 button.colab-df-convert');\n",
              "      buttonEl.style.display =\n",
              "        google.colab.kernel.accessAllowed ? 'block' : 'none';\n",
              "\n",
              "      async function convertToInteractive(key) {\n",
              "        const element = document.querySelector('#df-328addb4-ea1a-4755-ac85-39896d33c1a6');\n",
              "        const dataTable =\n",
              "          await google.colab.kernel.invokeFunction('convertToInteractive',\n",
              "                                                    [key], {});\n",
              "        if (!dataTable) return;\n",
              "\n",
              "        const docLinkHtml = 'Like what you see? Visit the ' +\n",
              "          '<a target=\"_blank\" href=https://colab.research.google.com/notebooks/data_table.ipynb>data table notebook</a>'\n",
              "          + ' to learn more about interactive tables.';\n",
              "        element.innerHTML = '';\n",
              "        dataTable['output_type'] = 'display_data';\n",
              "        await google.colab.output.renderOutput(dataTable, element);\n",
              "        const docLink = document.createElement('div');\n",
              "        docLink.innerHTML = docLinkHtml;\n",
              "        element.appendChild(docLink);\n",
              "      }\n",
              "    </script>\n",
              "  </div>\n",
              "\n",
              "\n",
              "<div id=\"df-5b04d8df-409f-4829-bec5-8c6d345daba3\">\n",
              "  <button class=\"colab-df-quickchart\" onclick=\"quickchart('df-5b04d8df-409f-4829-bec5-8c6d345daba3')\"\n",
              "            title=\"Suggest charts\"\n",
              "            style=\"display:none;\">\n",
              "\n",
              "<svg xmlns=\"http://www.w3.org/2000/svg\" height=\"24px\"viewBox=\"0 0 24 24\"\n",
              "     width=\"24px\">\n",
              "    <g>\n",
              "        <path d=\"M19 3H5c-1.1 0-2 .9-2 2v14c0 1.1.9 2 2 2h14c1.1 0 2-.9 2-2V5c0-1.1-.9-2-2-2zM9 17H7v-7h2v7zm4 0h-2V7h2v10zm4 0h-2v-4h2v4z\"/>\n",
              "    </g>\n",
              "</svg>\n",
              "  </button>\n",
              "\n",
              "<style>\n",
              "  .colab-df-quickchart {\n",
              "      --bg-color: #E8F0FE;\n",
              "      --fill-color: #1967D2;\n",
              "      --hover-bg-color: #E2EBFA;\n",
              "      --hover-fill-color: #174EA6;\n",
              "      --disabled-fill-color: #AAA;\n",
              "      --disabled-bg-color: #DDD;\n",
              "  }\n",
              "\n",
              "  [theme=dark] .colab-df-quickchart {\n",
              "      --bg-color: #3B4455;\n",
              "      --fill-color: #D2E3FC;\n",
              "      --hover-bg-color: #434B5C;\n",
              "      --hover-fill-color: #FFFFFF;\n",
              "      --disabled-bg-color: #3B4455;\n",
              "      --disabled-fill-color: #666;\n",
              "  }\n",
              "\n",
              "  .colab-df-quickchart {\n",
              "    background-color: var(--bg-color);\n",
              "    border: none;\n",
              "    border-radius: 50%;\n",
              "    cursor: pointer;\n",
              "    display: none;\n",
              "    fill: var(--fill-color);\n",
              "    height: 32px;\n",
              "    padding: 0;\n",
              "    width: 32px;\n",
              "  }\n",
              "\n",
              "  .colab-df-quickchart:hover {\n",
              "    background-color: var(--hover-bg-color);\n",
              "    box-shadow: 0 1px 2px rgba(60, 64, 67, 0.3), 0 1px 3px 1px rgba(60, 64, 67, 0.15);\n",
              "    fill: var(--button-hover-fill-color);\n",
              "  }\n",
              "\n",
              "  .colab-df-quickchart-complete:disabled,\n",
              "  .colab-df-quickchart-complete:disabled:hover {\n",
              "    background-color: var(--disabled-bg-color);\n",
              "    fill: var(--disabled-fill-color);\n",
              "    box-shadow: none;\n",
              "  }\n",
              "\n",
              "  .colab-df-spinner {\n",
              "    border: 2px solid var(--fill-color);\n",
              "    border-color: transparent;\n",
              "    border-bottom-color: var(--fill-color);\n",
              "    animation:\n",
              "      spin 1s steps(1) infinite;\n",
              "  }\n",
              "\n",
              "  @keyframes spin {\n",
              "    0% {\n",
              "      border-color: transparent;\n",
              "      border-bottom-color: var(--fill-color);\n",
              "      border-left-color: var(--fill-color);\n",
              "    }\n",
              "    20% {\n",
              "      border-color: transparent;\n",
              "      border-left-color: var(--fill-color);\n",
              "      border-top-color: var(--fill-color);\n",
              "    }\n",
              "    30% {\n",
              "      border-color: transparent;\n",
              "      border-left-color: var(--fill-color);\n",
              "      border-top-color: var(--fill-color);\n",
              "      border-right-color: var(--fill-color);\n",
              "    }\n",
              "    40% {\n",
              "      border-color: transparent;\n",
              "      border-right-color: var(--fill-color);\n",
              "      border-top-color: var(--fill-color);\n",
              "    }\n",
              "    60% {\n",
              "      border-color: transparent;\n",
              "      border-right-color: var(--fill-color);\n",
              "    }\n",
              "    80% {\n",
              "      border-color: transparent;\n",
              "      border-right-color: var(--fill-color);\n",
              "      border-bottom-color: var(--fill-color);\n",
              "    }\n",
              "    90% {\n",
              "      border-color: transparent;\n",
              "      border-bottom-color: var(--fill-color);\n",
              "    }\n",
              "  }\n",
              "</style>\n",
              "\n",
              "  <script>\n",
              "    async function quickchart(key) {\n",
              "      const quickchartButtonEl =\n",
              "        document.querySelector('#' + key + ' button');\n",
              "      quickchartButtonEl.disabled = true;  // To prevent multiple clicks.\n",
              "      quickchartButtonEl.classList.add('colab-df-spinner');\n",
              "      try {\n",
              "        const charts = await google.colab.kernel.invokeFunction(\n",
              "            'suggestCharts', [key], {});\n",
              "      } catch (error) {\n",
              "        console.error('Error during call to suggestCharts:', error);\n",
              "      }\n",
              "      quickchartButtonEl.classList.remove('colab-df-spinner');\n",
              "      quickchartButtonEl.classList.add('colab-df-quickchart-complete');\n",
              "    }\n",
              "    (() => {\n",
              "      let quickchartButtonEl =\n",
              "        document.querySelector('#df-5b04d8df-409f-4829-bec5-8c6d345daba3 button');\n",
              "      quickchartButtonEl.style.display =\n",
              "        google.colab.kernel.accessAllowed ? 'block' : 'none';\n",
              "    })();\n",
              "  </script>\n",
              "</div>\n",
              "\n",
              "    </div>\n",
              "  </div>\n"
            ],
            "application/vnd.google.colaboratory.intrinsic+json": {
              "type": "dataframe",
              "variable_name": "dat",
              "summary": "{\n  \"name\": \"dat\",\n  \"rows\": 10000,\n  \"fields\": [\n    {\n      \"column\": 0,\n      \"properties\": {\n        \"dtype\": \"float32\",\n        \"num_unique_values\": 9999,\n        \"samples\": [\n          16.559276580810547,\n          23.125173568725586,\n          -1.0127322673797607\n        ],\n        \"semantic_type\": \"\",\n        \"description\": \"\"\n      }\n    },\n    {\n      \"column\": 1,\n      \"properties\": {\n        \"dtype\": \"float32\",\n        \"num_unique_values\": 9996,\n        \"samples\": [\n          -2.342780828475952,\n          2.1427619457244873,\n          10.76486587524414\n        ],\n        \"semantic_type\": \"\",\n        \"description\": \"\"\n      }\n    },\n    {\n      \"column\": \"inst_id\",\n      \"properties\": {\n        \"dtype\": \"string\",\n        \"num_unique_values\": 10000,\n        \"samples\": [\n          \"REP.A001_PC3_24H_X2_B22:M22\",\n          \"REP.A001_MCF7_24H_X1_B27:J19\",\n          \"REP.A001_HA1E_24H_X2_B22:K08\"\n        ],\n        \"semantic_type\": \"\",\n        \"description\": \"\"\n      }\n    },\n    {\n      \"column\": \"cell_id\",\n      \"properties\": {\n        \"dtype\": \"category\",\n        \"num_unique_values\": 7,\n        \"samples\": [\n          \"A375\",\n          \"HA1E\",\n          \"PC3\"\n        ],\n        \"semantic_type\": \"\",\n        \"description\": \"\"\n      }\n    },\n    {\n      \"column\": \"det_plate\",\n      \"properties\": {\n        \"dtype\": \"category\",\n        \"num_unique_values\": 27,\n        \"samples\": [\n          \"REP.A001_HELA_24H_X3_B22\",\n          \"REP.A001_MCF7_24H_X2_B27\",\n          \"REP.A001_HT29_24H_X1_B27\"\n        ],\n        \"semantic_type\": \"\",\n        \"description\": \"\"\n      }\n    },\n    {\n      \"column\": \"det_well\",\n      \"properties\": {\n        \"dtype\": \"category\",\n        \"num_unique_values\": 380,\n        \"samples\": [\n          \"L08\",\n          \"L03\",\n          \"L07\"\n        ],\n        \"semantic_type\": \"\",\n        \"description\": \"\"\n      }\n    },\n    {\n      \"column\": \"pert_mfc_id\",\n      \"properties\": {\n        \"dtype\": \"category\",\n        \"num_unique_values\": 115,\n        \"samples\": [\n          \"BRD-K16898998-001-01-6\",\n          \"BRD-K25140590-001-03-0\",\n          \"BRD-K28984613-001-01-5\"\n        ],\n        \"semantic_type\": \"\",\n        \"description\": \"\"\n      }\n    },\n    {\n      \"column\": \"pert_dose\",\n      \"properties\": {\n        \"dtype\": \"number\",\n        \"std\": 150.47705252021467,\n        \"min\": -666.0,\n        \"max\": 19.9998,\n        \"num_unique_values\": 15,\n        \"samples\": [\n          2.0,\n          0.222222,\n          -666.0\n        ],\n        \"semantic_type\": \"\",\n        \"description\": \"\"\n      }\n    },\n    {\n      \"column\": \"pert_dose_unit\",\n      \"properties\": {\n        \"dtype\": \"category\",\n        \"num_unique_values\": 2,\n        \"samples\": [\n          \"um\",\n          \"-666\"\n        ],\n        \"semantic_type\": \"\",\n        \"description\": \"\"\n      }\n    },\n    {\n      \"column\": \"pert_id\",\n      \"properties\": {\n        \"dtype\": \"category\",\n        \"num_unique_values\": 115,\n        \"samples\": [\n          \"BRD-K16898998\",\n          \"BRD-K25140590\"\n        ],\n        \"semantic_type\": \"\",\n        \"description\": \"\"\n      }\n    },\n    {\n      \"column\": \"pert_iname\",\n      \"properties\": {\n        \"dtype\": \"category\",\n        \"num_unique_values\": 115,\n        \"samples\": [\n          \"bevirimat-dimeglumine\",\n          \"CX-516\"\n        ],\n        \"semantic_type\": \"\",\n        \"description\": \"\"\n      }\n    },\n    {\n      \"column\": \"pert_type\",\n      \"properties\": {\n        \"dtype\": \"category\",\n        \"num_unique_values\": 2,\n        \"samples\": [\n          \"trt_cp\",\n          \"ctl_vehicle\"\n        ],\n        \"semantic_type\": \"\",\n        \"description\": \"\"\n      }\n    },\n    {\n      \"column\": \"pert_time\",\n      \"properties\": {\n        \"dtype\": \"number\",\n        \"std\": 0.0,\n        \"min\": 24.0,\n        \"max\": 24.0,\n        \"num_unique_values\": 1,\n        \"samples\": [\n          24.0\n        ],\n        \"semantic_type\": \"\",\n        \"description\": \"\"\n      }\n    },\n    {\n      \"column\": \"pert_time_unit\",\n      \"properties\": {\n        \"dtype\": \"category\",\n        \"num_unique_values\": 1,\n        \"samples\": [\n          \"h\"\n        ],\n        \"semantic_type\": \"\",\n        \"description\": \"\"\n      }\n    }\n  ]\n}"
            }
          },
          "metadata": {},
          "execution_count": 20
        }
      ]
    },
    {
      "cell_type": "markdown",
      "source": [
        "#### Visualize normalized, but unaligned\n",
        "\n",
        "First we see that cell type, unsurprisingly has a dominant effect"
      ],
      "metadata": {
        "id": "6n6xdllK0plK"
      }
    },
    {
      "cell_type": "code",
      "source": [
        "ax = sns.scatterplot(dat, x=0, y=1, hue=\"cell_id\", s=3)\n",
        "sns.move_legend(ax, \"upper left\", bbox_to_anchor=(1, 1))"
      ],
      "metadata": {
        "colab": {
          "base_uri": "https://localhost:8080/",
          "height": 449
        },
        "id": "VQ8PCtz6xvnD",
        "outputId": "7429ec46-4428-48eb-aace-21f55287c75c"
      },
      "execution_count": null,
      "outputs": [
        {
          "output_type": "display_data",
          "data": {
            "text/plain": [
              "<Figure size 640x480 with 1 Axes>"
            ],
            "image/png": "[encoded data removed]"
          },
          "metadata": {}
        }
      ]
    },
    {
      "cell_type": "markdown",
      "source": [
        "And within each cell type, the batch (or plate) has a large effect"
      ],
      "metadata": {
        "id": "HoEd2tqksBpV"
      }
    },
    {
      "cell_type": "code",
      "source": [
        "ax = sns.scatterplot(dat, x=0, y=1, hue=\"det_plate\", s=3)\n",
        "sns.move_legend(ax, \"upper left\", bbox_to_anchor=(1, 1))"
      ],
      "metadata": {
        "colab": {
          "base_uri": "https://localhost:8080/",
          "height": 638
        },
        "id": "ksdzfvBD0_qF",
        "outputId": "ca6381d9-458b-4182-f1bd-c26ba317a976"
      },
      "execution_count": null,
      "outputs": [
        {
          "output_type": "display_data",
          "data": {
            "text/plain": [
              "<Figure size 640x480 with 1 Axes>"
            ],
            "image/png": "[encoded data removed]"
          },
          "metadata": {}
        }
      ]
    },
    {
      "cell_type": "markdown",
      "source": [
        "Good to know, we'll come back to the batch effect after embedding the data\n",
        "\n",
        "### Embedding\n",
        "While the field of transcriptomics foundation models is under\n",
        "rapid development, e.g. ([scGPT](https://www.nature.com/articles/s41592-024-02201-0), [scFoundation](https://www.biorxiv.org/content/10.1101/2023.05.29.542705v3), [Geneformer](https://www.nature.com/articles/s41586-023-06139-9), [Universal Cell Embeddings](https://www.biorxiv.org/content/10.1101/2023.11.28.568918v1)) the are generally sequencing specific and few are independently benchmarked to date. From the benchmarks that\n",
        "have been done, it is clear that [scVI](https://www.nature.com/articles/s41592-018-0229-2), a variational autoencoder, remains a\n",
        "strong baseline. None of the above actually are designed for L1000 data,\n",
        "so we'll take a vanilla variational autoencoder for simplicity.\n",
        "\n",
        "#### Data loaders"
      ],
      "metadata": {
        "id": "sYFc6HEttC6J"
      }
    },
    {
      "cell_type": "code",
      "source": [
        "# simple tabular data loader\n",
        "class L1000Dataset(Dataset):\n",
        "    def __init__(self, data):\n",
        "        self.X = data\n",
        "\n",
        "    def __len__(self):\n",
        "        return len(self.X.T)\n",
        "\n",
        "    def __getitem__(self, idx):\n",
        "        if torch.is_tensor(idx):\n",
        "            idx = idx.tolist()\n",
        "\n",
        "        sample = (self.X[:,idx], )\n",
        "        return sample"
      ],
      "metadata": {
        "id": "4WgJWOf3kcky"
      },
      "execution_count": null,
      "outputs": []
    },
    {
      "cell_type": "code",
      "source": [
        "joint_dataset = L1000Dataset(gene_normalized)\n",
        "total_len = len(joint_dataset)\n",
        "len_train = int(total_len * .9)\n",
        "len_val = total_len - len_train"
      ],
      "metadata": {
        "id": "anI6A_CnkwmA"
      },
      "execution_count": null,
      "outputs": []
    },
    {
      "cell_type": "markdown",
      "source": [
        "> Note. In this lab we are not concerned with _generalization_.\n",
        "We're simply using the embedding to reduce noise, and measuring\n",
        "similarity (within set). Most ML projects with transcriptomics\n",
        "data _will_ be concerned with generalization and should consider\n",
        "a split that reserves whole experimental batches\n",
        "(such as 'gem wells' or 'plates')\n",
        "of data for the test set."
      ],
      "metadata": {
        "id": "Vn9wNg7lZrxO"
      }
    },
    {
      "cell_type": "code",
      "source": [
        "training_dataset, validation_dataset = random_split(joint_dataset, lengths=[len_train, len_val])"
      ],
      "metadata": {
        "id": "E767pYdYk6ny"
      },
      "execution_count": null,
      "outputs": []
    },
    {
      "cell_type": "code",
      "source": [
        "batch_size = 512\n",
        "training_dataloader = DataLoader(training_dataset, batch_size=batch_size,\n",
        "                                 shuffle=True, num_workers=0)\n",
        "validation_dataloader = DataLoader(validation_dataset, batch_size=batch_size,\n",
        "                                   shuffle=True, num_workers=0)"
      ],
      "metadata": {
        "id": "qFm05PFon_32"
      },
      "execution_count": null,
      "outputs": []
    },
    {
      "cell_type": "code",
      "source": [
        "if torch.cuda.is_available():\n",
        "    device = torch.device(\"cuda\")\n",
        "elif torch.backends.mps.is_available():\n",
        "    device = torch.device(\"mps\")\n",
        "else:\n",
        "    device = torch.device(\"cpu\")"
      ],
      "metadata": {
        "id": "79fwIsIKu-2M"
      },
      "execution_count": null,
      "outputs": []
    },
    {
      "cell_type": "code",
      "source": [
        "\n",
        "class VAE(nn.Module):\n",
        "    def __init__(self, x_dim, h_dim, z_dim):\n",
        "        super(VAE, self).__init__()\n",
        "        self.fc_1 = nn.Linear(x_dim, h_dim)\n",
        "        self.fc_2a = nn.Linear(h_dim, z_dim)\n",
        "        self.fc_2b = nn.Linear(h_dim, z_dim)\n",
        "        self.fc_3 = nn.Linear(z_dim, h_dim)\n",
        "        self.fc_4 = nn.Linear(h_dim, x_dim)\n",
        "\n",
        "    def encoder(self, x):\n",
        "        h = F.relu(self.fc_1(x))\n",
        "        return self.fc_2a(h), self.fc_2b(h) # mu, log_var\n",
        "\n",
        "    def reparameterize(self, mu, log_var):\n",
        "        std = torch.exp(0.5 * log_var)\n",
        "        eps = torch.randn_like(std)\n",
        "        return eps * std + mu # z sample\n",
        "\n",
        "    def decoder(self, z):\n",
        "        h = F.relu(self.fc_3(z))\n",
        "        return self.fc_4(h)\n",
        "\n",
        "    def forward(self, x):\n",
        "        mu, log_var = self.encoder(x.view(-1, 978))\n",
        "        z = self.reparameterize(mu, log_var)\n",
        "        return self.decoder(z), mu, log_var\n",
        "\n",
        "\n",
        "vae = VAE(x_dim=978, h_dim=512, z_dim=256)\n",
        "vae.to(device)"
      ],
      "metadata": {
        "colab": {
          "base_uri": "https://localhost:8080/"
        },
        "id": "r0ziAIfjoUsR",
        "outputId": "f0a94141-8952-417d-ea62-f248a416cea2"
      },
      "execution_count": null,
      "outputs": [
        {
          "output_type": "execute_result",
          "data": {
            "text/plain": [
              "VAE(\n",
              "  (fc_1): Linear(in_features=978, out_features=512, bias=True)\n",
              "  (fc_2a): Linear(in_features=512, out_features=256, bias=True)\n",
              "  (fc_2b): Linear(in_features=512, out_features=256, bias=True)\n",
              "  (fc_3): Linear(in_features=256, out_features=512, bias=True)\n",
              "  (fc_4): Linear(in_features=512, out_features=978, bias=True)\n",
              ")"
            ]
          },
          "metadata": {},
          "execution_count": 33
        }
      ]
    },
    {
      "cell_type": "code",
      "source": [
        "optimizer = optim.Adam(vae.parameters(), lr=1e-4)\n",
        "# return reconstruction error + KL divergence losses\n",
        "def loss_function(recon_x, x, mu, log_var):\n",
        "    mse = F.mse_loss(recon_x, x.view(-1, 978))\n",
        "    kld_loss = torch.mean(-0.5 * torch.sum(1 + log_var - mu ** 2 - log_var.exp(), dim = 1), dim = 0)\n",
        "\n",
        "    return mse + kld_loss * 0.0002"
      ],
      "metadata": {
        "id": "t9CHAXnmvjRa"
      },
      "execution_count": null,
      "outputs": []
    },
    {
      "cell_type": "code",
      "source": [
        "def train(epoch):\n",
        "    vae.train()\n",
        "    train_loss = 0\n",
        "    for batch_idx, (data, ) in enumerate(training_dataloader):\n",
        "        data = data.to(device)\n",
        "        optimizer.zero_grad()\n",
        "\n",
        "        recon_batch, mu, log_var = vae(data)\n",
        "        loss = loss_function(recon_batch, data, mu, log_var)\n",
        "\n",
        "        loss.backward()\n",
        "        train_loss += loss.item()\n",
        "        optimizer.step()\n",
        "\n",
        "        if batch_idx % 100 == 0:\n",
        "            print('Train Epoch: {} [{}/{} ({:.0f}%)]\\tLoss: {:.6f}'.format(\n",
        "                epoch, batch_idx * len(data), len(training_dataloader.dataset),\n",
        "                100. * batch_idx / len(training_dataloader), loss.item() / len(data)))\n",
        "    print('====> Epoch: {} Average loss: {:.4f}'.format(epoch, train_loss / len(training_dataloader.dataset)))\n"
      ],
      "metadata": {
        "id": "A5i9mv3uvojU"
      },
      "execution_count": null,
      "outputs": []
    },
    {
      "cell_type": "code",
      "source": [
        "def val():\n",
        "    vae.eval()\n",
        "    val_loss= 0\n",
        "    with torch.no_grad():\n",
        "        for (data,) in validation_dataloader:\n",
        "            data = data.to(device)\n",
        "            recon, mu, log_var = vae(data)\n",
        "\n",
        "            # sum up batch loss\n",
        "            val_loss += loss_function(recon, data, mu, log_var).item()\n",
        "\n",
        "    val_loss /= len(validation_dataloader.dataset)\n",
        "    print('====> Val set loss: {:.4f}'.format(val_loss))"
      ],
      "metadata": {
        "id": "bfRoffG-vpYa"
      },
      "execution_count": null,
      "outputs": []
    },
    {
      "cell_type": "code",
      "source": [
        "# this will take several minutes, a great time\n",
        "# to read or catch up on the theory\n",
        "for epoch in range(1, 6):\n",
        "    train(epoch)\n",
        "    val()"
      ],
      "metadata": {
        "id": "T6zVfukOvt_U",
        "colab": {
          "base_uri": "https://localhost:8080/"
        },
        "outputId": "4b2cdeae-6196-4a69-841a-3a98a91e6295"
      },
      "execution_count": null,
      "outputs": [
        {
          "output_type": "stream",
          "name": "stdout",
          "text": [
            "Train Epoch: 1 [0/311378 (0%)]\tLoss: 0.000364\n",
            "Train Epoch: 1 [51200/311378 (16%)]\tLoss: 0.000349\n",
            "Train Epoch: 1 [102400/311378 (33%)]\tLoss: 0.000343\n",
            "Train Epoch: 1 [153600/311378 (49%)]\tLoss: 0.000323\n",
            "Train Epoch: 1 [204800/311378 (66%)]\tLoss: 0.000326\n",
            "Train Epoch: 1 [256000/311378 (82%)]\tLoss: 0.000308\n",
            "Train Epoch: 1 [307200/311378 (99%)]\tLoss: 0.000298\n",
            "====> Epoch: 1 Average loss: 0.0003\n",
            "====> Test set loss: 0.0003\n",
            "Train Epoch: 2 [0/311378 (0%)]\tLoss: 0.000303\n",
            "Train Epoch: 2 [51200/311378 (16%)]\tLoss: 0.000303\n",
            "Train Epoch: 2 [102400/311378 (33%)]\tLoss: 0.000301\n",
            "Train Epoch: 2 [153600/311378 (49%)]\tLoss: 0.000292\n",
            "Train Epoch: 2 [204800/311378 (66%)]\tLoss: 0.000281\n",
            "Train Epoch: 2 [256000/311378 (82%)]\tLoss: 0.000274\n",
            "Train Epoch: 2 [307200/311378 (99%)]\tLoss: 0.000282\n",
            "====> Epoch: 2 Average loss: 0.0003\n",
            "====> Test set loss: 0.0003\n",
            "Train Epoch: 3 [0/311378 (0%)]\tLoss: 0.000283\n",
            "Train Epoch: 3 [51200/311378 (16%)]\tLoss: 0.000297\n",
            "Train Epoch: 3 [102400/311378 (33%)]\tLoss: 0.000272\n",
            "Train Epoch: 3 [153600/311378 (49%)]\tLoss: 0.000263\n",
            "Train Epoch: 3 [204800/311378 (66%)]\tLoss: 0.000256\n",
            "Train Epoch: 3 [256000/311378 (82%)]\tLoss: 0.000259\n",
            "Train Epoch: 3 [307200/311378 (99%)]\tLoss: 0.000265\n",
            "====> Epoch: 3 Average loss: 0.0003\n",
            "====> Test set loss: 0.0003\n",
            "Train Epoch: 4 [0/311378 (0%)]\tLoss: 0.000255\n",
            "Train Epoch: 4 [51200/311378 (16%)]\tLoss: 0.000252\n",
            "Train Epoch: 4 [102400/311378 (33%)]\tLoss: 0.000253\n",
            "Train Epoch: 4 [153600/311378 (49%)]\tLoss: 0.000251\n",
            "Train Epoch: 4 [204800/311378 (66%)]\tLoss: 0.000250\n",
            "Train Epoch: 4 [256000/311378 (82%)]\tLoss: 0.000249\n",
            "Train Epoch: 4 [307200/311378 (99%)]\tLoss: 0.000250\n",
            "====> Epoch: 4 Average loss: 0.0003\n",
            "====> Test set loss: 0.0002\n",
            "Train Epoch: 5 [0/311378 (0%)]\tLoss: 0.000239\n",
            "Train Epoch: 5 [51200/311378 (16%)]\tLoss: 0.000232\n",
            "Train Epoch: 5 [102400/311378 (33%)]\tLoss: 0.000243\n",
            "Train Epoch: 5 [153600/311378 (49%)]\tLoss: 0.000232\n",
            "Train Epoch: 5 [204800/311378 (66%)]\tLoss: 0.000232\n",
            "Train Epoch: 5 [256000/311378 (82%)]\tLoss: 0.000233\n",
            "Train Epoch: 5 [307200/311378 (99%)]\tLoss: 0.000228\n",
            "====> Epoch: 5 Average loss: 0.0002\n",
            "====> Test set loss: 0.0002\n",
            "Train Epoch: 6 [0/311378 (0%)]\tLoss: 0.000224\n",
            "Train Epoch: 6 [51200/311378 (16%)]\tLoss: 0.000232\n",
            "Train Epoch: 6 [102400/311378 (33%)]\tLoss: 0.000229\n",
            "Train Epoch: 6 [153600/311378 (49%)]\tLoss: 0.000232\n",
            "Train Epoch: 6 [204800/311378 (66%)]\tLoss: 0.000225\n",
            "Train Epoch: 6 [256000/311378 (82%)]\tLoss: 0.000234\n",
            "Train Epoch: 6 [307200/311378 (99%)]\tLoss: 0.000226\n",
            "====> Epoch: 6 Average loss: 0.0002\n",
            "====> Test set loss: 0.0002\n",
            "Train Epoch: 7 [0/311378 (0%)]\tLoss: 0.000216\n",
            "Train Epoch: 7 [51200/311378 (16%)]\tLoss: 0.000223\n",
            "Train Epoch: 7 [102400/311378 (33%)]\tLoss: 0.000220\n",
            "Train Epoch: 7 [153600/311378 (49%)]\tLoss: 0.000216\n",
            "Train Epoch: 7 [204800/311378 (66%)]\tLoss: 0.000222\n",
            "Train Epoch: 7 [256000/311378 (82%)]\tLoss: 0.000215\n",
            "Train Epoch: 7 [307200/311378 (99%)]\tLoss: 0.000222\n",
            "====> Epoch: 7 Average loss: 0.0002\n",
            "====> Test set loss: 0.0002\n",
            "Train Epoch: 8 [0/311378 (0%)]\tLoss: 0.000217\n",
            "Train Epoch: 8 [51200/311378 (16%)]\tLoss: 0.000209\n",
            "Train Epoch: 8 [102400/311378 (33%)]\tLoss: 0.000209\n",
            "Train Epoch: 8 [153600/311378 (49%)]\tLoss: 0.000204\n",
            "Train Epoch: 8 [204800/311378 (66%)]\tLoss: 0.000212\n",
            "Train Epoch: 8 [256000/311378 (82%)]\tLoss: 0.000208\n",
            "Train Epoch: 8 [307200/311378 (99%)]\tLoss: 0.000208\n",
            "====> Epoch: 8 Average loss: 0.0002\n",
            "====> Test set loss: 0.0002\n",
            "Train Epoch: 9 [0/311378 (0%)]\tLoss: 0.000212\n",
            "Train Epoch: 9 [51200/311378 (16%)]\tLoss: 0.000206\n",
            "Train Epoch: 9 [102400/311378 (33%)]\tLoss: 0.000205\n",
            "Train Epoch: 9 [153600/311378 (49%)]\tLoss: 0.000205\n",
            "Train Epoch: 9 [204800/311378 (66%)]\tLoss: 0.000213\n",
            "Train Epoch: 9 [256000/311378 (82%)]\tLoss: 0.000207\n",
            "Train Epoch: 9 [307200/311378 (99%)]\tLoss: 0.000209\n",
            "====> Epoch: 9 Average loss: 0.0002\n",
            "====> Test set loss: 0.0002\n",
            "Train Epoch: 10 [0/311378 (0%)]\tLoss: 0.000210\n",
            "Train Epoch: 10 [51200/311378 (16%)]\tLoss: 0.000201\n",
            "Train Epoch: 10 [102400/311378 (33%)]\tLoss: 0.000208\n",
            "Train Epoch: 10 [153600/311378 (49%)]\tLoss: 0.000201\n",
            "Train Epoch: 10 [204800/311378 (66%)]\tLoss: 0.000202\n",
            "Train Epoch: 10 [256000/311378 (82%)]\tLoss: 0.000197\n",
            "Train Epoch: 10 [307200/311378 (99%)]\tLoss: 0.000196\n",
            "====> Epoch: 10 Average loss: 0.0002\n",
            "====> Test set loss: 0.0002\n"
          ]
        }
      ]
    },
    {
      "cell_type": "markdown",
      "source": [
        "Check if output distribution is reasonable"
      ],
      "metadata": {
        "id": "8qTrd64av7Yv"
      }
    },
    {
      "cell_type": "code",
      "source": [
        "for (data, ) in validation_dataloader:\n",
        "    break"
      ],
      "metadata": {
        "id": "H96dpVSLv_c6"
      },
      "execution_count": null,
      "outputs": []
    },
    {
      "cell_type": "code",
      "source": [
        "with torch.no_grad():\n",
        "    res = vae(data.to(device))"
      ],
      "metadata": {
        "id": "y7hB7JYkwAzH"
      },
      "execution_count": null,
      "outputs": []
    },
    {
      "cell_type": "code",
      "source": [
        "# do we get a bell curve / match to ori dist?\n",
        "_ = plt.hist(res[0].cpu().numpy().flatten(), bins=50)"
      ],
      "metadata": {
        "id": "-VDlLXAywA15",
        "colab": {
          "base_uri": "https://localhost:8080/",
          "height": 430
        },
        "outputId": "76549343-d654-40f0-a09b-0e2540e7b561"
      },
      "execution_count": null,
      "outputs": [
        {
          "output_type": "display_data",
          "data": {
            "text/plain": [
              "<Figure size 640x480 with 1 Axes>"
            ],
            "image/png": "[encoded data removed]"
          },
          "metadata": {}
        }
      ]
    },
    {
      "cell_type": "code",
      "source": [
        "# compared to exact input?\n",
        "plt.scatter(res[0].cpu().numpy().flatten(),\n",
        "           data.cpu().numpy().flatten())"
      ],
      "metadata": {
        "id": "ndBYj3YNwA5A",
        "colab": {
          "base_uri": "https://localhost:8080/",
          "height": 447
        },
        "outputId": "f70c5721-bdd3-4aaa-f912-0e96917a62d2"
      },
      "execution_count": null,
      "outputs": [
        {
          "output_type": "execute_result",
          "data": {
            "text/plain": [
              "<matplotlib.collections.PathCollection at 0x7b2a91946200>"
            ]
          },
          "metadata": {},
          "execution_count": 61
        },
        {
          "output_type": "display_data",
          "data": {
            "text/plain": [
              "<Figure size 640x480 with 1 Axes>"
            ],
            "image/png": "[encoded data removed]"
          },
          "metadata": {}
        }
      ]
    },
    {
      "cell_type": "markdown",
      "source": [
        "In a performance oriented project we would perform hyperparameter tuning\n",
        "using downstream metrics to select the best model. But for now,\n",
        "we'll continue with this one and embed all the data.\n",
        "\n"
      ],
      "metadata": {
        "id": "_XyVmqlueXp9"
      }
    },
    {
      "cell_type": "code",
      "source": [
        "out = []\n",
        "# all the data, unshuffled\n",
        "joint_dataloader = DataLoader(joint_dataset, batch_size=batch_size,\n",
        "                                 shuffle=False, num_workers=0)\n",
        "for (data, ) in joint_dataloader:\n",
        "    with torch.no_grad():\n",
        "        out.append(vae(data.to(device))[1].cpu().numpy())  # 1 is the embedding, AKA mu\n",
        "vae_embedding = np.concatenate(out)"
      ],
      "metadata": {
        "id": "C4tCezD8edM5"
      },
      "execution_count": null,
      "outputs": []
    },
    {
      "cell_type": "markdown",
      "source": [
        "### Batch correction\n",
        "Even high throughput biological assays have much smaller capacity than the number of samples we wish to measure in drug discovery. Thus, the data is gathered in 'batches', for instance, everything that fits on a 384 well plate at the same time. These batches necessarily share some technical (e.g. sequencing depth) and biological (e.g. exact cell age, response to time of day) co-variation that is often greater than the effect of some individual perturbants.\n",
        "\n",
        "How best to make downstream modelling tasks robust to the batches\n",
        "in which experimental data was\n",
        "collected or even integrate data from disparate studies is an evolving field\n",
        "(e.g. [Harmony](https://www.nature.com/articles/s41592-019-0619-0),\n",
        "[TVN](https://www.biorxiv.org/content/10.1101/161422v1.abstract),\n",
        "[sysVI](https://www.biorxiv.org/content/10.1101/2023.11.03.565463v2),\n",
        "[InfoCORE](https://arxiv.org/abs/2312.00718) to name only a few).\n",
        "Here, we simply center each batch on the control mean and scale it by the\n",
        "control standard deviation."
      ],
      "metadata": {
        "id": "ACjxuLcOtxOX"
      }
    },
    {
      "cell_type": "code",
      "source": [
        "# first, helper functions\n",
        "def find_controls(inst_info_batch):\n",
        "    \"\"\"parses the metadata to identify which controls can be used for centering\"\"\"\n",
        "    # the plates (batches) have _either_\n",
        "    # compounds with DMSO (\"ctl_vehicle\") as a negative, centering control\n",
        "    comp_control = 'ctl_vehicle'\n",
        "    comp_treatment = 'trt_cp'\n",
        "    comp_pert_types = (comp_control, comp_treatment)\n",
        "    # OR genetic perturbations with a non-targeting guide (\"ctl_vector\") as a negative, centering control\n",
        "    genetic_control = 'ctl_vector'\n",
        "    genetic_treatment = 'trt_xpr'\n",
        "    genetic_null = 'ctl_untrt'\n",
        "    genetic_pert_types = (genetic_null, genetic_control, genetic_treatment)\n",
        "    # what did we actually get?\n",
        "    batch_pert_types = tuple(np.sort(inst_info_batch.pert_type.unique()))\n",
        "    if batch_pert_types == comp_pert_types:\n",
        "        return inst_info_batch.pert_type == comp_control\n",
        "    elif batch_pert_types == genetic_pert_types:\n",
        "        return inst_info_batch.pert_type == genetic_control\n",
        "    else:\n",
        "        raise ValueError(\n",
        "            f\"unknown perturbation types {tuple(inst_info_batch.pert_type.unique())}\"\n",
        "        )\n",
        "\n",
        "# naive centering\n",
        "def center_scale_on_controls(dat_batch_tup, inst_info_batch_tup):\n",
        "    \"\"\"centers each batch on the control mean and scales by the control\n",
        "    standard deviation.\n",
        "\n",
        "    Thus the (average) control will have a mean of 0 and sd of 1 afterwards,\n",
        "    while perturbed samples may vary.\"\"\"\n",
        "\n",
        "    # drop batch that came from groupby\n",
        "    _, dat_batch = dat_batch_tup\n",
        "    _, inst_info_batch = inst_info_batch_tup\n",
        "    # select controls\n",
        "    controls = dat_batch.loc[find_controls(inst_info_batch)]\n",
        "    # calculate mean & sd for each 'feature'\n",
        "    control_mean = np.mean(controls, axis=0)\n",
        "    control_sd = np.std(controls, axis=0)\n",
        "    # normalize all data (subtract mean, divide by sd)\n",
        "    return (dat_batch - control_mean) / control_sd\n",
        "\n",
        "\n"
      ],
      "metadata": {
        "id": "cTbx2baxo2b0"
      },
      "execution_count": 66,
      "outputs": []
    },
    {
      "cell_type": "code",
      "source": [
        "# put meta data (inst_info) and normalized gene abundance\n",
        "# into pandas dfs with matching order & index\n",
        "ordered_inst_info = inst_info.set_index(\"inst_id\")\n",
        "ordered_inst_info = ordered_inst_info.loc[gene_abundance.columns, :]"
      ],
      "metadata": {
        "id": "c9dtlz5tt_9i"
      },
      "execution_count": 67,
      "outputs": []
    },
    {
      "cell_type": "code",
      "source": [
        "splitable = pd.DataFrame(gene_normalized).T\n",
        "splitable.index = ordered_inst_info.index"
      ],
      "metadata": {
        "id": "u4ss6ibYuQsq"
      },
      "execution_count": 68,
      "outputs": []
    },
    {
      "cell_type": "code",
      "source": [
        "# loop through batches and center\n",
        "out = []\n",
        "for dat_batch, inst_info_batch in zip(splitable.groupby(ordered_inst_info['det_plate']),\n",
        "                                     ordered_inst_info.groupby('det_plate')):\n",
        "    out.append(center_scale_on_controls(dat_batch, inst_info_batch))\n",
        "# re-concatenate batches and restore original order\n",
        "bc_vae_embedding = pd.concat(out).loc[ordered_inst_info.index]\n"
      ],
      "metadata": {
        "id": "AlpLRyZAuN5N"
      },
      "execution_count": 71,
      "outputs": []
    },
    {
      "cell_type": "markdown",
      "source": [
        "Let's see how the batch normalization changed the groupings in the data"
      ],
      "metadata": {
        "id": "Da4Gwx5rAlN_"
      }
    },
    {
      "cell_type": "code",
      "source": [
        "# UMAP, as above\n",
        "embedding = reducer.fit_transform(bc_vae_embedding[:N])\n",
        "dat = pd.DataFrame(embedding)\n",
        "dat[\"inst_id\"] = gene_abundance.columns[:N]\n",
        "dat = dat.merge(inst_info, on='inst_id')"
      ],
      "metadata": {
        "colab": {
          "base_uri": "https://localhost:8080/"
        },
        "id": "r2R9p98GAxpD",
        "outputId": "511e85d4-9cdc-4ef6-848f-e2f19a1866f2"
      },
      "execution_count": 72,
      "outputs": [
        {
          "output_type": "stream",
          "name": "stderr",
          "text": [
            "/usr/local/lib/python3.10/dist-packages/sklearn/manifold/_spectral_embedding.py:274: UserWarning: Graph is not fully connected, spectral embedding may not work as expected.\n",
            "  warnings.warn(\n"
          ]
        }
      ]
    },
    {
      "cell_type": "code",
      "source": [
        "# cell types colored\n",
        "ax = sns.scatterplot(dat, x=0, y=1, hue=\"cell_id\", s=3)\n",
        "sns.move_legend(ax, \"upper left\", bbox_to_anchor=(1, 1))"
      ],
      "metadata": {
        "colab": {
          "base_uri": "https://localhost:8080/",
          "height": 449
        },
        "id": "RxDYv8PKBDG-",
        "outputId": "0a0b5a52-bc4f-4333-f4c4-a4c14b40e8dd"
      },
      "execution_count": 73,
      "outputs": [
        {
          "output_type": "display_data",
          "data": {
            "text/plain": [
              "<Figure size 640x480 with 1 Axes>"
            ],
            "image/png": "[encoded data removed]"
          },
          "metadata": {}
        }
      ]
    },
    {
      "cell_type": "code",
      "source": [
        "ax = sns.scatterplot(dat, x=0, y=1, hue=\"det_plate\", s=3)\n",
        "sns.move_legend(ax, \"upper left\", bbox_to_anchor=(1, 1))"
      ],
      "metadata": {
        "colab": {
          "base_uri": "https://localhost:8080/",
          "height": 638
        },
        "id": "c-682wFXBR3p",
        "outputId": "28987238-dfe8-4032-e4e1-2fc7dac34e70"
      },
      "execution_count": 74,
      "outputs": [
        {
          "output_type": "display_data",
          "data": {
            "text/plain": [
              "<Figure size 640x480 with 1 Axes>"
            ],
            "image/png": "[encoded data removed]"
          },
          "metadata": {}
        }
      ]
    },
    {
      "cell_type": "markdown",
      "source": [
        "The mixing is imperfect, but nevertheless the data points are far better mixed than before embedding and batch correction."
      ],
      "metadata": {
        "id": "JEiklYMiBkZl"
      }
    },
    {
      "cell_type": "markdown",
      "source": [
        "### Apply embeddings to target deconvolution\n",
        "We will try and use these embeddings to identify\n",
        "(or in this case verify) potential targets\n",
        "(or disrupted pathways) for everolimus, an inhibitor of\n",
        "MTOR.\n",
        "\n",
        "We can work with the hypothesis, that a drug inhibiting\n",
        "a protein target will induce a similar phenotype to a\n",
        "genetic knock out of said protein target. Whether this\n",
        "phenotype is measured by phenomics, transcriptomics,\n",
        "or any other high through put assay, if we can make\n",
        "centered embeddings, we can simply find similar phenotypes\n",
        "with cosine similarity and consider these candidate targets.\n"
      ],
      "metadata": {
        "id": "vr-ntjH3wdzx"
      }
    },
    {
      "cell_type": "code",
      "source": [
        "def mean_cosine_similarity(mat):\n",
        "    \"\"\"calculates the mean of non-self pairwise cosine similarities in mat\"\"\"\n",
        "    res = cosine_similarity(mat)\n",
        "    upper_triangular_mask = np.triu(np.ones(res.shape, dtype=bool), 1)\n",
        "    return np.mean(res[upper_triangular_mask])"
      ],
      "metadata": {
        "id": "3UkFzSD_Doo4"
      },
      "execution_count": 77,
      "outputs": []
    },
    {
      "cell_type": "code",
      "source": [
        "# confirm our compound of interest is present in data\n",
        "compound = \"everolimus\"\n",
        "ordered_inst_info.loc[ordered_inst_info.pert_iname == compound].pert_id.value_counts()"
      ],
      "metadata": {
        "id": "jp9NeeQ0wgxa",
        "colab": {
          "base_uri": "https://localhost:8080/"
        },
        "outputId": "a17edeff-6f93-4dda-b7e7-e099ea9c27dc"
      },
      "execution_count": 89,
      "outputs": [
        {
          "output_type": "execute_result",
          "data": {
            "text/plain": [
              "pert_id\n",
              "BRD-A25736793    398\n",
              "BRD-K13154216    126\n",
              "BRD-K13514097      6\n",
              "Name: count, dtype: int64"
            ]
          },
          "metadata": {},
          "execution_count": 89
        }
      ]
    },
    {
      "cell_type": "markdown",
      "source": [
        "Before we can dive in to actually comparing things, we have some decisions to make. In particular, what cell type and what dose should we take. We'll\n",
        "also have to clean up some data inconsistencies."
      ],
      "metadata": {
        "id": "4DNhZ08AEkJO"
      }
    },
    {
      "cell_type": "code",
      "source": [
        "# fix, non-exact matches in cell line naming, and make set for selecting cell lines\n",
        "# with available knock outs\n",
        "ordered_inst_info[\"cell_line\"] = np.array([re.sub('\\..*', '', x) for x in ordered_inst_info.cell_id])\n",
        "cell_lines_2_keep = set(ordered_inst_info[ordered_inst_info.pert_type == \"trt_xpr\"].cell_line.unique())\n",
        "cell_lines_2_keep"
      ],
      "metadata": {
        "colab": {
          "base_uri": "https://localhost:8080/"
        },
        "id": "FsG9H-eNFBub",
        "outputId": "c8c41ea6-7b5a-4c41-de6e-12acf287cf8a"
      },
      "execution_count": 79,
      "outputs": [
        {
          "output_type": "execute_result",
          "data": {
            "text/plain": [
              "{'A375', 'A549', 'HA1E', 'HELA', 'HT29', 'MCF7', 'PC3', 'YAPC'}"
            ]
          },
          "metadata": {},
          "execution_count": 79
        }
      ]
    },
    {
      "cell_type": "code",
      "source": [
        "# select all instances of compound perturbation on potential comparable cell lines\n",
        "mask = (ordered_inst_info.pert_iname == compound) & ordered_inst_info.cell_id.isin(cell_lines_2_keep)\n",
        "comp_dat = bc_vae_embedding.loc[mask]\n",
        "comp_meta = ordered_inst_info.loc[mask]\n",
        "# equalize rounding so dosages match\n",
        "comp_meta.loc[:, 'pert_dose_rounded'] = np.round(comp_meta.pert_dose, 2)"
      ],
      "metadata": {
        "colab": {
          "base_uri": "https://localhost:8080/"
        },
        "id": "_U_eJvjTFgEK",
        "outputId": "dc3ee78a-81e5-4bba-c12f-0ce7099bd829"
      },
      "execution_count": 90,
      "outputs": [
        {
          "output_type": "stream",
          "name": "stderr",
          "text": [
            "<ipython-input-90-609c9e9eda88>:6: SettingWithCopyWarning: \n",
            "A value is trying to be set on a copy of a slice from a DataFrame.\n",
            "Try using .loc[row_indexer,col_indexer] = value instead\n",
            "\n",
            "See the caveats in the documentation: https://pandas.pydata.org/pandas-docs/stable/user_guide/indexing.html#returning-a-view-versus-a-copy\n",
            "  comp_meta.loc[:, 'pert_dose_rounded'] = np.round(comp_meta.pert_dose, 2)\n"
          ]
        }
      ]
    },
    {
      "cell_type": "code",
      "source": [
        "# calcute the cosine similarity between all replicates within a given\n",
        "# cell line and dosage.\n",
        "# the idea here, is if replicates don't correlate, then there's likely\n",
        "# no consistent effect for compound <-> comparisons\n",
        "# in biological terms, these might be cases where the compound is doesed\n",
        "# too low to have an effect or the protein target is not expressed\n",
        "flat = comp_dat.groupby([comp_meta.cell_id, comp_meta.pert_dose_rounded]).apply(\n",
        "    mean_cosine_similarity)\n",
        "flat = pd.DataFrame(flat).reset_index()\n",
        "# reshape to cell line X dose\n",
        "pivoted = pd.pivot(flat, columns='pert_dose_rounded', index='cell_id')\n",
        "pivoted.head()"
      ],
      "metadata": {
        "colab": {
          "base_uri": "https://localhost:8080/",
          "height": 269
        },
        "id": "qBINGi0aHPcX",
        "outputId": "2f55eeb1-996e-4e50-9f8d-fa62c000b9b0"
      },
      "execution_count": 94,
      "outputs": [
        {
          "output_type": "execute_result",
          "data": {
            "text/plain": [
              "                          0                                                    \\\n",
              "pert_dose_rounded     0.04      0.10      0.12      0.37      1.11      3.33    \n",
              "cell_id                                                                         \n",
              "A375               0.190466  0.029433  0.278842  0.368486  0.299844  0.269333   \n",
              "A549               0.381414       NaN  0.318607  0.271451  0.263318  0.276921   \n",
              "HA1E               0.164933       NaN  0.217335  0.276556  0.227882  0.200797   \n",
              "HELA               0.120391       NaN  0.072514  0.138451  0.198963  0.242689   \n",
              "HT29               0.076919       NaN  0.064585  0.079004  0.102750  0.079585   \n",
              "\n",
              "                             \n",
              "pert_dose_rounded     10.00  \n",
              "cell_id                      \n",
              "A375               0.210655  \n",
              "A549               0.307897  \n",
              "HA1E               0.250359  \n",
              "HELA               0.200544  \n",
              "HT29               0.151457  "
            ],
            "text/html": [
              "\n",
              "  <div id=\"df-a03eaeff-1f73-45ed-adaf-492f6f7c9b77\" class=\"colab-df-container\">\n",
              "    <div>\n",
              "<style scoped>\n",
              "    .dataframe tbody tr th:only-of-type {\n",
              "        vertical-align: middle;\n",
              "    }\n",
              "\n",
              "    .dataframe tbody tr th {\n",
              "        vertical-align: top;\n",
              "    }\n",
              "\n",
              "    .dataframe thead tr th {\n",
              "        text-align: left;\n",
              "    }\n",
              "\n",
              "    .dataframe thead tr:last-of-type th {\n",
              "        text-align: right;\n",
              "    }\n",
              "</style>\n",
              "<table border=\"1\" class=\"dataframe\">\n",
              "  <thead>\n",
              "    <tr>\n",
              "      <th></th>\n",
              "      <th colspan=\"7\" halign=\"left\">0</th>\n",
              "    </tr>\n",
              "    <tr>\n",
              "      <th>pert_dose_rounded</th>\n",
              "      <th>0.04</th>\n",
              "      <th>0.10</th>\n",
              "      <th>0.12</th>\n",
              "      <th>0.37</th>\n",
              "      <th>1.11</th>\n",
              "      <th>3.33</th>\n",
              "      <th>10.00</th>\n",
              "    </tr>\n",
              "    <tr>\n",
              "      <th>cell_id</th>\n",
              "      <th></th>\n",
              "      <th></th>\n",
              "      <th></th>\n",
              "      <th></th>\n",
              "      <th></th>\n",
              "      <th></th>\n",
              "      <th></th>\n",
              "    </tr>\n",
              "  </thead>\n",
              "  <tbody>\n",
              "    <tr>\n",
              "      <th>A375</th>\n",
              "      <td>0.190466</td>\n",
              "      <td>0.029433</td>\n",
              "      <td>0.278842</td>\n",
              "      <td>0.368486</td>\n",
              "      <td>0.299844</td>\n",
              "      <td>0.269333</td>\n",
              "      <td>0.210655</td>\n",
              "    </tr>\n",
              "    <tr>\n",
              "      <th>A549</th>\n",
              "      <td>0.381414</td>\n",
              "      <td>NaN</td>\n",
              "      <td>0.318607</td>\n",
              "      <td>0.271451</td>\n",
              "      <td>0.263318</td>\n",
              "      <td>0.276921</td>\n",
              "      <td>0.307897</td>\n",
              "    </tr>\n",
              "    <tr>\n",
              "      <th>HA1E</th>\n",
              "      <td>0.164933</td>\n",
              "      <td>NaN</td>\n",
              "      <td>0.217335</td>\n",
              "      <td>0.276556</td>\n",
              "      <td>0.227882</td>\n",
              "      <td>0.200797</td>\n",
              "      <td>0.250359</td>\n",
              "    </tr>\n",
              "    <tr>\n",
              "      <th>HELA</th>\n",
              "      <td>0.120391</td>\n",
              "      <td>NaN</td>\n",
              "      <td>0.072514</td>\n",
              "      <td>0.138451</td>\n",
              "      <td>0.198963</td>\n",
              "      <td>0.242689</td>\n",
              "      <td>0.200544</td>\n",
              "    </tr>\n",
              "    <tr>\n",
              "      <th>HT29</th>\n",
              "      <td>0.076919</td>\n",
              "      <td>NaN</td>\n",
              "      <td>0.064585</td>\n",
              "      <td>0.079004</td>\n",
              "      <td>0.102750</td>\n",
              "      <td>0.079585</td>\n",
              "      <td>0.151457</td>\n",
              "    </tr>\n",
              "  </tbody>\n",
              "</table>\n",
              "</div>\n",
              "    <div class=\"colab-df-buttons\">\n",
              "\n",
              "  <div class=\"colab-df-container\">\n",
              "    <button class=\"colab-df-convert\" onclick=\"convertToInteractive('df-a03eaeff-1f73-45ed-adaf-492f6f7c9b77')\"\n",
              "            title=\"Convert this dataframe to an interactive table.\"\n",
              "            style=\"display:none;\">\n",
              "\n",
              "  <svg xmlns=\"http://www.w3.org/2000/svg\" height=\"24px\" viewBox=\"0 -960 960 960\">\n",
              "    <path d=\"M120-120v-720h720v720H120Zm60-500h600v-160H180v160Zm220 220h160v-160H400v160Zm0 220h160v-160H400v160ZM180-400h160v-160H180v160Zm440 0h160v-160H620v160ZM180-180h160v-160H180v160Zm440 0h160v-160H620v160Z\"/>\n",
              "  </svg>\n",
              "    </button>\n",
              "\n",
              "  <style>\n",
              "    .colab-df-container {\n",
              "      display:flex;\n",
              "      gap: 12px;\n",
              "    }\n",
              "\n",
              "    .colab-df-convert {\n",
              "      background-color: #E8F0FE;\n",
              "      border: none;\n",
              "      border-radius: 50%;\n",
              "      cursor: pointer;\n",
              "      display: none;\n",
              "      fill: #1967D2;\n",
              "      height: 32px;\n",
              "      padding: 0 0 0 0;\n",
              "      width: 32px;\n",
              "    }\n",
              "\n",
              "    .colab-df-convert:hover {\n",
              "      background-color: #E2EBFA;\n",
              "      box-shadow: 0px 1px 2px rgba(60, 64, 67, 0.3), 0px 1px 3px 1px rgba(60, 64, 67, 0.15);\n",
              "      fill: #174EA6;\n",
              "    }\n",
              "\n",
              "    .colab-df-buttons div {\n",
              "      margin-bottom: 4px;\n",
              "    }\n",
              "\n",
              "    [theme=dark] .colab-df-convert {\n",
              "      background-color: #3B4455;\n",
              "      fill: #D2E3FC;\n",
              "    }\n",
              "\n",
              "    [theme=dark] .colab-df-convert:hover {\n",
              "      background-color: #434B5C;\n",
              "      box-shadow: 0px 1px 3px 1px rgba(0, 0, 0, 0.15);\n",
              "      filter: drop-shadow(0px 1px 2px rgba(0, 0, 0, 0.3));\n",
              "      fill: #FFFFFF;\n",
              "    }\n",
              "  </style>\n",
              "\n",
              "    <script>\n",
              "      const buttonEl =\n",
              "        document.querySelector('#df-a03eaeff-1f73-45ed-adaf-492f6f7c9b77 button.colab-df-convert');\n",
              "      buttonEl.style.display =\n",
              "        google.colab.kernel.accessAllowed ? 'block' : 'none';\n",
              "\n",
              "      async function convertToInteractive(key) {\n",
              "        const element = document.querySelector('#df-a03eaeff-1f73-45ed-adaf-492f6f7c9b77');\n",
              "        const dataTable =\n",
              "          await google.colab.kernel.invokeFunction('convertToInteractive',\n",
              "                                                    [key], {});\n",
              "        if (!dataTable) return;\n",
              "\n",
              "        const docLinkHtml = 'Like what you see? Visit the ' +\n",
              "          '<a target=\"_blank\" href=https://colab.research.google.com/notebooks/data_table.ipynb>data table notebook</a>'\n",
              "          + ' to learn more about interactive tables.';\n",
              "        element.innerHTML = '';\n",
              "        dataTable['output_type'] = 'display_data';\n",
              "        await google.colab.output.renderOutput(dataTable, element);\n",
              "        const docLink = document.createElement('div');\n",
              "        docLink.innerHTML = docLinkHtml;\n",
              "        element.appendChild(docLink);\n",
              "      }\n",
              "    </script>\n",
              "  </div>\n",
              "\n",
              "\n",
              "<div id=\"df-ca008214-208c-426a-9095-e323ebe14101\">\n",
              "  <button class=\"colab-df-quickchart\" onclick=\"quickchart('df-ca008214-208c-426a-9095-e323ebe14101')\"\n",
              "            title=\"Suggest charts\"\n",
              "            style=\"display:none;\">\n",
              "\n",
              "<svg xmlns=\"http://www.w3.org/2000/svg\" height=\"24px\"viewBox=\"0 0 24 24\"\n",
              "     width=\"24px\">\n",
              "    <g>\n",
              "        <path d=\"M19 3H5c-1.1 0-2 .9-2 2v14c0 1.1.9 2 2 2h14c1.1 0 2-.9 2-2V5c0-1.1-.9-2-2-2zM9 17H7v-7h2v7zm4 0h-2V7h2v10zm4 0h-2v-4h2v4z\"/>\n",
              "    </g>\n",
              "</svg>\n",
              "  </button>\n",
              "\n",
              "<style>\n",
              "  .colab-df-quickchart {\n",
              "      --bg-color: #E8F0FE;\n",
              "      --fill-color: #1967D2;\n",
              "      --hover-bg-color: #E2EBFA;\n",
              "      --hover-fill-color: #174EA6;\n",
              "      --disabled-fill-color: #AAA;\n",
              "      --disabled-bg-color: #DDD;\n",
              "  }\n",
              "\n",
              "  [theme=dark] .colab-df-quickchart {\n",
              "      --bg-color: #3B4455;\n",
              "      --fill-color: #D2E3FC;\n",
              "      --hover-bg-color: #434B5C;\n",
              "      --hover-fill-color: #FFFFFF;\n",
              "      --disabled-bg-color: #3B4455;\n",
              "      --disabled-fill-color: #666;\n",
              "  }\n",
              "\n",
              "  .colab-df-quickchart {\n",
              "    background-color: var(--bg-color);\n",
              "    border: none;\n",
              "    border-radius: 50%;\n",
              "    cursor: pointer;\n",
              "    display: none;\n",
              "    fill: var(--fill-color);\n",
              "    height: 32px;\n",
              "    padding: 0;\n",
              "    width: 32px;\n",
              "  }\n",
              "\n",
              "  .colab-df-quickchart:hover {\n",
              "    background-color: var(--hover-bg-color);\n",
              "    box-shadow: 0 1px 2px rgba(60, 64, 67, 0.3), 0 1px 3px 1px rgba(60, 64, 67, 0.15);\n",
              "    fill: var(--button-hover-fill-color);\n",
              "  }\n",
              "\n",
              "  .colab-df-quickchart-complete:disabled,\n",
              "  .colab-df-quickchart-complete:disabled:hover {\n",
              "    background-color: var(--disabled-bg-color);\n",
              "    fill: var(--disabled-fill-color);\n",
              "    box-shadow: none;\n",
              "  }\n",
              "\n",
              "  .colab-df-spinner {\n",
              "    border: 2px solid var(--fill-color);\n",
              "    border-color: transparent;\n",
              "    border-bottom-color: var(--fill-color);\n",
              "    animation:\n",
              "      spin 1s steps(1) infinite;\n",
              "  }\n",
              "\n",
              "  @keyframes spin {\n",
              "    0% {\n",
              "      border-color: transparent;\n",
              "      border-bottom-color: var(--fill-color);\n",
              "      border-left-color: var(--fill-color);\n",
              "    }\n",
              "    20% {\n",
              "      border-color: transparent;\n",
              "      border-left-color: var(--fill-color);\n",
              "      border-top-color: var(--fill-color);\n",
              "    }\n",
              "    30% {\n",
              "      border-color: transparent;\n",
              "      border-left-color: var(--fill-color);\n",
              "      border-top-color: var(--fill-color);\n",
              "      border-right-color: var(--fill-color);\n",
              "    }\n",
              "    40% {\n",
              "      border-color: transparent;\n",
              "      border-right-color: var(--fill-color);\n",
              "      border-top-color: var(--fill-color);\n",
              "    }\n",
              "    60% {\n",
              "      border-color: transparent;\n",
              "      border-right-color: var(--fill-color);\n",
              "    }\n",
              "    80% {\n",
              "      border-color: transparent;\n",
              "      border-right-color: var(--fill-color);\n",
              "      border-bottom-color: var(--fill-color);\n",
              "    }\n",
              "    90% {\n",
              "      border-color: transparent;\n",
              "      border-bottom-color: var(--fill-color);\n",
              "    }\n",
              "  }\n",
              "</style>\n",
              "\n",
              "  <script>\n",
              "    async function quickchart(key) {\n",
              "      const quickchartButtonEl =\n",
              "        document.querySelector('#' + key + ' button');\n",
              "      quickchartButtonEl.disabled = true;  // To prevent multiple clicks.\n",
              "      quickchartButtonEl.classList.add('colab-df-spinner');\n",
              "      try {\n",
              "        const charts = await google.colab.kernel.invokeFunction(\n",
              "            'suggestCharts', [key], {});\n",
              "      } catch (error) {\n",
              "        console.error('Error during call to suggestCharts:', error);\n",
              "      }\n",
              "      quickchartButtonEl.classList.remove('colab-df-spinner');\n",
              "      quickchartButtonEl.classList.add('colab-df-quickchart-complete');\n",
              "    }\n",
              "    (() => {\n",
              "      let quickchartButtonEl =\n",
              "        document.querySelector('#df-ca008214-208c-426a-9095-e323ebe14101 button');\n",
              "      quickchartButtonEl.style.display =\n",
              "        google.colab.kernel.accessAllowed ? 'block' : 'none';\n",
              "    })();\n",
              "  </script>\n",
              "</div>\n",
              "\n",
              "    </div>\n",
              "  </div>\n"
            ],
            "application/vnd.google.colaboratory.intrinsic+json": {
              "type": "dataframe",
              "variable_name": "pivoted",
              "summary": "{\n  \"name\": \"pivoted\",\n  \"rows\": 8,\n  \"fields\": [\n    {\n      \"column\": [\n        \"cell_id\",\n        \"\"\n      ],\n      \"properties\": {\n        \"dtype\": \"string\",\n        \"num_unique_values\": 8,\n        \"samples\": [\n          \"A549\",\n          \"MCF7\",\n          \"A375\"\n        ],\n        \"semantic_type\": \"\",\n        \"description\": \"\"\n      }\n    },\n    {\n      \"column\": [\n        0,\n        0.04\n      ],\n      \"properties\": {\n        \"dtype\": \"float32\",\n        \"num_unique_values\": 8,\n        \"samples\": [\n          0.3814135789871216,\n          0.2216634750366211,\n          0.19046550989151\n        ],\n        \"semantic_type\": \"\",\n        \"description\": \"\"\n      }\n    },\n    {\n      \"column\": [\n        0,\n        0.1\n      ],\n      \"properties\": {\n        \"dtype\": \"float32\",\n        \"num_unique_values\": 1,\n        \"samples\": [\n          0.02943308651447296\n        ],\n        \"semantic_type\": \"\",\n        \"description\": \"\"\n      }\n    },\n    {\n      \"column\": [\n        0,\n        0.12\n      ],\n      \"properties\": {\n        \"dtype\": \"float32\",\n        \"num_unique_values\": 8,\n        \"samples\": [\n          0.3186066150665283\n        ],\n        \"semantic_type\": \"\",\n        \"description\": \"\"\n      }\n    },\n    {\n      \"column\": [\n        0,\n        0.37\n      ],\n      \"properties\": {\n        \"dtype\": \"float32\",\n        \"num_unique_values\": 8,\n        \"samples\": [\n          0.2714513838291168\n        ],\n        \"semantic_type\": \"\",\n        \"description\": \"\"\n      }\n    },\n    {\n      \"column\": [\n        0,\n        1.11\n      ],\n      \"properties\": {\n        \"dtype\": \"float32\",\n        \"num_unique_values\": 8,\n        \"samples\": [\n          0.26331764459609985\n        ],\n        \"semantic_type\": \"\",\n        \"description\": \"\"\n      }\n    },\n    {\n      \"column\": [\n        0,\n        3.33\n      ],\n      \"properties\": {\n        \"dtype\": \"float32\",\n        \"num_unique_values\": 8,\n        \"samples\": [\n          0.2769206166267395\n        ],\n        \"semantic_type\": \"\",\n        \"description\": \"\"\n      }\n    },\n    {\n      \"column\": [\n        0,\n        10.0\n      ],\n      \"properties\": {\n        \"dtype\": \"float32\",\n        \"num_unique_values\": 8,\n        \"samples\": [\n          0.3078972399234772\n        ],\n        \"semantic_type\": \"\",\n        \"description\": \"\"\n      }\n    }\n  ]\n}"
            }
          },
          "metadata": {},
          "execution_count": 94
        }
      ]
    },
    {
      "cell_type": "code",
      "source": [
        "sns.heatmap(pivoted, vmin=-1, vmax=1, cmap=\"seismic\")"
      ],
      "metadata": {
        "colab": {
          "base_uri": "https://localhost:8080/",
          "height": 472
        },
        "id": "ZmnxkT3nITcV",
        "outputId": "8d626e22-ecf1-460a-fbf6-ecdae8e79818"
      },
      "execution_count": 95,
      "outputs": [
        {
          "output_type": "execute_result",
          "data": {
            "text/plain": [
              "<Axes: xlabel='None-pert_dose_rounded', ylabel='cell_id'>"
            ]
          },
          "metadata": {},
          "execution_count": 95
        },
        {
          "output_type": "display_data",
          "data": {
            "text/plain": [
              "<Figure size 640x480 with 2 Axes>"
            ],
            "image/png": "[encoded data removed]"
          },
          "metadata": {}
        }
      ]
    },
    {
      "cell_type": "markdown",
      "source": [
        "This compound has a fairly consistent effect across cell\n",
        "lines, nevertheless will focus on a couple of the strongest.\n",
        "\n",
        "#### Find the most similar genetic knock outs\n"
      ],
      "metadata": {
        "id": "mwojKO6AwisV"
      }
    },
    {
      "cell_type": "code",
      "source": [
        "def query_gene_knockouts(compound, target_cell_line, min_dose, max_dose):\n",
        "    cell_mask = ordered_inst_info.cell_line == target_cell_line\n",
        "    genes_mask = ordered_inst_info.pert_type == \"trt_xpr\"\n",
        "\n",
        "    comp_mask = ordered_inst_info.pert_iname == compound\n",
        "    dose_mask = (min_dose <= ordered_inst_info.pert_dose) & (ordered_inst_info.pert_dose <=  max_dose)\n",
        "\n",
        "    comp_dat = bc_vae_embedding.loc[cell_mask & comp_mask & dose_mask]\n",
        "\n",
        "    sub_info = ordered_inst_info.loc[cell_mask & genes_mask]\n",
        "    sub_dat = bc_vae_embedding.loc[cell_mask & genes_mask]\n",
        "    g_references = sub_dat.groupby(sub_info.pert_iname).mean()\n",
        "    comp_query = comp_dat.mean()\n",
        "    ready = pd.concat([g_references, pd.DataFrame(comp_query).T])\n",
        "    return pd.Series(cosine_similarity(ready)[-1], index=ready.index)"
      ],
      "metadata": {
        "id": "kyCJS4QgImnj"
      },
      "execution_count": 99,
      "outputs": []
    },
    {
      "cell_type": "code",
      "source": [
        "# top hits\n",
        "query_gene_knockouts(compound, \"A549\", min_dose=0, max_dose=2).sort_values(ascending=False)[1:11]  # 0th index is always the compound"
      ],
      "metadata": {
        "colab": {
          "base_uri": "https://localhost:8080/"
        },
        "id": "C_HlrhqQI2ZJ",
        "outputId": "e8495572-62bf-4e19-d714-8ac67d2d1834"
      },
      "execution_count": 102,
      "outputs": [
        {
          "output_type": "execute_result",
          "data": {
            "text/plain": [
              "MTOR      0.484750\n",
              "AURKB     0.454339\n",
              "KRAS      0.447317\n",
              "RPS6      0.403063\n",
              "EGFR      0.397468\n",
              "CRKL      0.349557\n",
              "PIK3CA    0.329848\n",
              "CIC       0.328326\n",
              "DIDO1     0.308988\n",
              "KEAP1     0.306320\n",
              "dtype: float32"
            ]
          },
          "metadata": {},
          "execution_count": 102
        }
      ]
    },
    {
      "cell_type": "code",
      "source": [
        "query_gene_knockouts(compound, \"A375\", min_dose=.11, max_dose=2).sort_values(ascending=False)[1:11]  # 0th index is always the compound"
      ],
      "metadata": {
        "colab": {
          "base_uri": "https://localhost:8080/"
        },
        "id": "Ncg-jxhsI6FJ",
        "outputId": "6220e645-0e77-4aa2-e9e6-a3adda968ebe"
      },
      "execution_count": 103,
      "outputs": [
        {
          "output_type": "execute_result",
          "data": {
            "text/plain": [
              "MTOR      0.527962\n",
              "AURKB     0.484008\n",
              "EXO1      0.441868\n",
              "BRAF      0.413536\n",
              "MAST4     0.366023\n",
              "PTP4A1    0.358229\n",
              "CRKL      0.351876\n",
              "CAMK1     0.326513\n",
              "DIDO1     0.325077\n",
              "RPS6      0.321106\n",
              "dtype: float32"
            ]
          },
          "metadata": {},
          "execution_count": 103
        }
      ]
    },
    {
      "cell_type": "code",
      "source": [
        "query_gene_knockouts(compound, \"YAPC\", min_dose=0, max_dose=0.15).sort_values(ascending=False)[1:11]  # 0th index is always the compound"
      ],
      "metadata": {
        "colab": {
          "base_uri": "https://localhost:8080/"
        },
        "id": "7ub0xtRWJv67",
        "outputId": "5b160fe9-3b3a-45bd-8a7e-b310c67aa010"
      },
      "execution_count": 104,
      "outputs": [
        {
          "output_type": "execute_result",
          "data": {
            "text/plain": [
              "PIK3CA    0.247795\n",
              "MTOR      0.210091\n",
              "PLXNA1    0.166113\n",
              "PTP4A1    0.156825\n",
              "ITGA11    0.121790\n",
              "AKT1      0.115446\n",
              "ERG       0.096664\n",
              "INSM2     0.089966\n",
              "CDH1      0.089309\n",
              "FASN      0.075639\n",
              "dtype: float32"
            ]
          },
          "metadata": {},
          "execution_count": 104
        }
      ]
    },
    {
      "cell_type": "code",
      "source": [],
      "metadata": {
        "id": "Ii5THXs7J7vb"
      },
      "execution_count": null,
      "outputs": []
    },
    {
      "cell_type": "markdown",
      "source": [
        "good to see MTOR robustly at or near the top of the list.\n",
        "\n",
        "other consistent hits should be checked if they could be indirect effects\n",
        "(e.g. in the pathway with MTOR); or whether they might be off target effects.\n",
        "\n",
        "\n",
        "You made it!\n",
        "\n",
        "If you have extra time, we'd encourage you to pick your favorite step of\n",
        "this lab and try and optimize it."
      ],
      "metadata": {
        "id": "yNaHyGqWJ9WU"
      }
    }
  ]
}