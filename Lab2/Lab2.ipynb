{
  "cells": [
    {
      "cell_type": "markdown",
      "metadata": {
        "id": "2qYVCW9CyPy6"
      },
      "source": [
        "# Binding Affinity Prediction with ML-Based Docking\n",
        "\n",
        "Let's download the data and create the environment while we talk about some of the theory and the workshop structure."
      ]
    },
    {
      "cell_type": "code",
      "execution_count": null,
      "metadata": {
        "id": "X05CUzUHW6Ke"
      },
      "outputs": [],
      "source": [
        "import os\n",
        "os.makedirs(\"data\", exist_ok=True)\n",
        "os.makedirs(\"figures\", exist_ok=True)\n",
        "!wget \"https://raw.githubusercontent.com/valence-labs/mtl_summer_school_2024/main/Lab2/data/6vhn.pdb\" -O \"data/6vhn.pdb\"\n",
        "!wget \"https://raw.githubusercontent.com/valence-labs/mtl_summer_school_2024/main/Lab2/data/6vhn_prepared.pdb\" -O \"data/6vhn_prepared.pdb\"\n",
        "!wget \"https://raw.githubusercontent.com/valence-labs/mtl_summer_school_2024/main/Lab2/data/Enamine_Hinge_Binders_Library_plated_24000cmds_20210316%20(1).sdf\" -O \"data/Enamine_Hinge_Binders_Library_plated_24000cmds_20210316%20(1).sdf\"\n",
        "!wget \"https://raw.githubusercontent.com/valence-labs/mtl_summer_school_2024/main/Lab2/__init__.py\" \"__init__.py\"\n",
        "!wget \"https://raw.githubusercontent.com/valence-labs/mtl_summer_school_2024/main/Lab2/workshop_2_utils.py\" \"workshop_2_utils.py\"\n",
        "!wget \"https://raw.githubusercontent.com/valence-labs/mtl_summer_school_2024/main/Lab2/env.yml\" \"env.yml\"\n",
        "import warnings\n",
        "warnings.filterwarnings(\"ignore\")"
      ]
    },
    {
      "cell_type": "code",
      "execution_count": null,
      "metadata": {
        "id": "2DB4N4IqNBRi"
      },
      "outputs": [],
      "source": [
        "!pip install -q condacolab\n",
        "import condacolab\n",
        "condacolab.install() # kernel will die and restart. This is expected."
      ]
    },
    {
      "cell_type": "code",
      "execution_count": null,
      "metadata": {
        "id": "YYfwj4QRNXPB"
      },
      "outputs": [],
      "source": [
        "import condacolab\n",
        "condacolab.check()"
      ]
    },
    {
      "cell_type": "code",
      "execution_count": null,
      "metadata": {
        "id": "c1kHGWgSNXsA"
      },
      "outputs": [],
      "source": [
        "# Updating the base environment, this will take a bit (~2min)\n",
        "!mamba env update -n base -f env.yml"
      ]
    },
    {
      "cell_type": "code",
      "execution_count": null,
      "metadata": {
        "id": "ztSZInESTifH"
      },
      "outputs": [],
      "source": [
        "!pip install py3Dmol #For rendering"
      ]
    },
    {
      "cell_type": "code",
      "execution_count": null,
      "metadata": {
        "id": "lPYCBVHBPD86"
      },
      "outputs": [],
      "source": [
        "from google.colab import output\n",
        "output.enable_custom_widget_manager() # for output rendering\n"
      ]
    },
    {
      "cell_type": "markdown",
      "metadata": {
        "id": "K9d_ZCknyPy8"
      },
      "source": [
        "\n",
        "## PREMISE\n",
        "\n",
        "In this lab, we will use molecular docking to predict the binding pose and affinity of small molecules in a protein binding site.\n",
        "\n",
        "For the remainder of the labs, we will use the **epidermal growth factor receptor \\(EGFR\\)** as our target system \\([6VHN](https://www.rcsb.org/structure/6VHN)\\).\n",
        "The protein encoded by this gene is a transmembrane glycoprotein that is a member of the protein kinase superfamily.\n",
        "We are going to predict the **binding affinity** of some molecules to this protein to the ATP binding site in the hinge region.\n",
        "\n",
        "EGFR is a frequently over-expressed and aberrantly activated trans-membrane protein in non-small cell lung cancer (NSCLC) patients, described for the first time in 2004. Mutations in this gene are associated with lung cancer in particular.\n",
        "\n",
        "The goal of this lab is twofold:\n",
        "- First, we explain important steps of a **molecular docking workflow** using the classical docking software Autodock Vina.\n",
        "- Second, we build an **active learning / Bayesian optimization** cycle to find high binding affinity candidates from a molecular screening library while minimizing the number of evaluations of the \\(somewhat expensive\\) Docking oracle.\n",
        "\n",
        "Such a pipelines could be used in the hit\\-to\\-lead phase of the drug\\-discovery process or to reduce the size of the screening library to be tested.\n",
        "\n",
        "Such active learning pipelines can be also used in other phases of the drug\\-discovery process such as in lead-optimization or to select the best candidates for experimental/wet lab validation.\n",
        "\n",
        "The docking part of this lab is inspired by the following TeachOpenCADD tutorial: [https://projects.volkamerlab.org/teachopencadd/talktorials/T015\\_protein\\_ligand\\_docking.html](https://projects.volkamerlab.org/teachopencadd/talktorials/T015_protein_ligand_docking.html)\n",
        "\n",
        "<img src=\"http://drive.google.com/uc?export=view&id=1Ho4AmpFwznTliRiWBGV7Bp7CxZl64EiA\" alt=\"drawing\" width=\"800\"/>\n",
        "\n",
        "**Fig. 1:** Rendering (VMD) of EGFR (6VHN) in complex with inhibitor."
      ]
    },
    {
      "cell_type": "markdown",
      "metadata": {
        "id": "2-BIaI1xyPy8"
      },
      "source": [
        "### Molecular docking\n",
        "\n",
        "In the modern drug discovery pipeline, determining the binding mode and binding affinity of an active molecule to a given protein target is very important. With the advent of **on\\-demand synthesis libraries** such as [Enamine Real](https://enamine.net/compound-collections/real-compounds/real-database), the design space of possible ligands extends to billions of theoretically synthesizable molecules. Molecular docking can probe and \\(de\\)prioritize these molecules before they are even synthesized, thus, accelerate the discovery of novel lead candidates.\n",
        "\n",
        "Molecular docking software can be used to **predict binding modes and affinities** by sampling possible conformations of a ligand inside the protein binding pocket \\(Fig. 2\\). To this end, the sampling of conformations aims to optimize a Docking score function. After the optimal pose has been found, which is typically calculated from a variety of terms for different non\\-covalent molecular interactions, the Docking score is used to predict the binding free energy.\n",
        "\n",
        "<img src=\"http://drive.google.com/uc?export=view&id=1EiXraYCjASFXMiiOsQbV4V_cCLJzbWW9\" alt=\"drawing\" width=\"800\"/>\n",
        "\n",
        "**Fig. 2:** EGFR in complex with inhibitor \\(_David Schaller_\\).\n",
        "\n"
      ]
    },
    {
      "cell_type": "markdown",
      "metadata": {
        "id": "isDVD8xYyPy9"
      },
      "source": [
        "### Background: Binding free energy\n",
        "\n",
        "We are interested in finding drug compounds that strongly bind to a target protein.\n",
        "Hence, in the equilibrium reaction between protein $P$ and ligand $L$\n",
        "\\begin{equation}\n",
        " P + L \t\\rightleftharpoons PL\\ ,\n",
        "\\end{equation}\n",
        "we are interested in a large ratio of protein-ligand complexes over proteins and ligands individually.\n",
        "\n",
        "\n",
        "<img src=\"http://drive.google.com/uc?export=view&id=1du-Nt5j3CwrIKU3AIK8TA3Jv1jfkdco1\" alt=\"drawing\" width=\"400\"/>\n",
        "\n",
        "**Fig. 3:** Protein-ligand binding equilibrium reaction \\([Amber Tutorial](https://ambermd.org/tutorials/advanced/tutorial3/), _Ross Walker_\\, 2006).\n",
        "\n",
        "This ratio is proportional to the binding constant $K_b^0$, which, on the other hand, is proportional to the **Gibbs free energy of binding**\n",
        "\\begin{equation}\n",
        " \\Delta G^0_\\mathrm{bind} = -k_B T \\ln K_b^0 \\ ,\n",
        "\\end{equation}\n",
        "where $k_B$ is the Boltzmann constant and $T$ is the temperature. Hence, we are interested in predicting $ \\Delta G^0_\\mathrm{bind}$ in-silico. While $ \\Delta G^0_\\mathrm{bind}$ can be computed physically rigorous via MD simulations, this is too computationally expensive for large-scale screenings in the hit-to-lead phase. To this end, we can use Docking to provide us with a less accurate, but significantly less computationally expensive estimate of $ \\Delta G^0_\\mathrm{bind}$ in order to (de-)prioritize compounds.\n",
        "\n"
      ]
    },
    {
      "cell_type": "markdown",
      "metadata": {
        "id": "9ZasZcxsyPy9"
      },
      "source": [
        "### Docking score\n",
        "\n",
        "**TLDR** : An empirical mathematical function used to __proxy__ the binding free energy of a protein-ligand complex. Used to rank ligands in a virtual screening by considering\n",
        "the inter- & intra molecular interactions and other physical properties (H-bonds, hydrophobic interactions, etc.) to define a scalar value.\n",
        "\n",
        "The docking score c in [AutoDock Vina](https://onlinelibrary.wiley.com/doi/10.1002/jcc.21334) is built of pairwise physics\\-inspired functions f\n",
        "\\begin{equation}\n",
        "c = \\sum_{i<j} f_{t_it_j}(r_{ij}) \\ ,\n",
        "\\end{equation}\n",
        "where $t_i$ is the atom type and $r_{ij}$ is the pairwise distance between atoms $i$ and $j$.\n",
        "The Docking score consists of both intra and inter\\-molecular interactions\n",
        "\\begin{equation}\n",
        "c =c_\\mathrm{inter} + c_\\mathrm{intra} \\ ,\n",
        "\\end{equation}\n",
        "but only the inter\\-molecular component is used to predict the binding free energy:\n",
        "\\begin{equation}\n",
        " \\Delta G^0_\\mathrm{bind} \\approx g(c_\\mathrm{inter}) = \\frac{c_\\mathrm{inter}}{1+w N_\\mathrm{rot}} \\ ,\n",
        "\\end{equation}\n",
        "where $N_\\mathrm{rot}$ is the number of rotable bonds of the ligand and $w$ is a weight parameter.\n",
        "The parameters of $c$ are optimized based on the PDBBind database.\n",
        "\n"
      ]
    },
    {
      "cell_type": "markdown",
      "metadata": {
        "id": "h2Xohl7JyPy9"
      },
      "source": [
        "### Sampling algorithms\n",
        "\n",
        "To sample the conformations of ligands inside a protein binding pocket \\([Curr Comput Aided Drug Des \\(2011\\), 7, 2, 146\\-157](https://doi.org/10.2174/157340911795677602)\\), classical Docking algorithms employ sampling algorithms such as the following:\n",
        "\n",
        "* **Matching algorithms:** Compare the shape similarity of ligand conformations and the protein binding pocket, usually also including chemical information, e.g. hydrogen bond acceptors and donors. However, these programs require a _prior computation of ligand conformations_ that are used during shape comparison.This will fail if the biologically relevant conformation is not present in this library.\n",
        "\n",
        "* In the **incremental instruction** method, the ligand is first deconstructed into smaller fragments by breaking its rotatable bonds. One of the fragments, for example the biggest one, is placed first into the binding pocket. Subsequently, the complete ligand is _incrementally constructed inside the binding pocket_ by connecting the remaining fragments at the appropriate positions of the core fragment.\n",
        "\n",
        "* **Monte Carlo methods** sample ligand conformations by rigid\\-body rotation and translation as well as bond rotation. They generate random placements and evaluate obtained conformations inside the protein binding pocket with the pose score function. If the pose is accepted, the conformation is saved and subsequently randomly modified to generate another conformations.\n",
        "\n",
        "* **Genetic algorithms** encode information about the ligand configuration in so-called _chromosomes_. Then, genetic operations such as mutation are performed. Finally, the population of _chromosomes_ is evaluated by the docking score and preferential selection of high-performing _chromosomes_ for genetic cross-over result in an updated, (hopefully) more optimal population.\n",
        "\n",
        "Vina uses a genetic algorithm for global search and optimizes local minima using the BFGS quasi-Newton optimizer.\n",
        "\n"
      ]
    },
    {
      "cell_type": "markdown",
      "metadata": {
        "id": "Io-IolkuyPy9"
      },
      "source": [
        "A **molecular docking** workflow usually involves the following steps \\(Fig. 4\\):\n",
        "\n",
        "- Input file preparation, e.g. protonation and conversion into specific file formats\n",
        "- Conformational sampling of the ligand inside the binding pocket via classical optimization of the docking score\n",
        "- Scoring of the generated docking poses via and docking score $c$ and prediction of $\\Delta G^0_\\mathrm{bind}$ via $g(c_\\mathrm{inter})$\n",
        "- Post\\-processing, e.g. visualization of the docking pose\n",
        "\n",
        "<img src=\"http://drive.google.com/uc?export=view&id=1SSd-cX7-5hKdUSxIhZnEJQ_rAVbjHr6M\" alt=\"drawing\" width=\"800\"/>\n",
        "\n",
        "__Fig. 4:__ Molecular docking workflow, (_Michele Wichmann_ and _David Schaller_)\n",
        "\n"
      ]
    },
    {
      "cell_type": "markdown",
      "metadata": {
        "id": "vLm6RfqMyPy9"
      },
      "source": [
        "## Implementation\n",
        "\n",
        "The implementation consists of 2 parts: First, we will prepare the Protein and compound database for Docking and _deomonstrate Docking of a single compound_. In the second part, we will use this pipeline to dock batches of compounds and _actively learn a Gaussian Process_ surrogate model of the docking score for efficient screening.\n",
        "\n",
        "### Input preparation\n",
        "\n",
        "In this workshop we will consider the simplest case of rigid docking with a known binding site. The information of the binding site will be provided by the crystallized ligand in the PDB entry.\n",
        "\n",
        "In a real case scenario, the binding site can be unknown. In this case, the research of the binding site can be done through various techniques or be achieved through blind docking. Recently, ML methods \\(e.g. DiffDock\\) have shown great potential in this task.\n",
        "\n"
      ]
    },
    {
      "cell_type": "code",
      "execution_count": null,
      "metadata": {
        "id": "3Hp4WYMiMuU3"
      },
      "outputs": [],
      "source": [
        "import mdtraj\n",
        "import numpy as np\n",
        "import os\n",
        "from workshop_2_utils import *\n",
        "\n",
        "\n",
        "os.makedirs(\"sdf_inputs\", exist_ok=True)\n",
        "os.makedirs(\"smina_inputs\", exist_ok=True)\n",
        "\n"
      ]
    },
    {
      "cell_type": "code",
      "execution_count": null,
      "metadata": {
        "id": "SXG88_fUMuU4"
      },
      "outputs": [],
      "source": [
        "traj = mdtraj.load(\"data/6vhn.pdb\")\n",
        "\n",
        "def get_protein_ligand_idxs(traj ,resname=None):\n",
        "    protein = traj.top.select(\"protein\")\n",
        "    resname = \"not protein\" if not resname else resname\n",
        "    ligand = traj.top.select(resname)\n",
        "    return protein, ligand\n",
        "\n",
        "def save_trimmed_pdb(path, traj, idxs):\n",
        "    traj.atom_slice(idxs).save_pdb(path)\n",
        "\n",
        "\n",
        "receptor, ligand = get_protein_ligand_idxs(traj, \"not protein and not water\")\n",
        "\n",
        "save_trimmed_pdb(\"data/ligand.pdb\", traj,ligand)\n",
        "#save_trimmed_pdb(\"data/receptor.pdb\", traj,receptor)\n",
        "\n"
      ]
    },
    {
      "cell_type": "markdown",
      "metadata": {
        "id": "2fyBF8CFyPy9"
      },
      "source": [
        "### Preparing a pdb\n",
        "\n",
        "For the docking, we need to prepare a pdb file of the protein and the ligand.\n",
        "For this workshop, the protein pdb was already prepared  by performing the following steps:\n",
        "\n",
        "- Removed the ligand from the pdb file\n",
        "- Deleted all the water molecules/solvent from the pdb file\n",
        "- Converted residues to standard residues  \n",
        "- Completed sidechains\n",
        "- Added hydrogens to the protein to the correct protonation state (ph 7.4)\n",
        "- Added charges to the protein (Gasteiger model)\n",
        "- Changed names of the residues to AMBER ff14Sb names\n",
        "\n",
        "Multiple programs can be used to complete this steps, e.g. med-chem programs including Maestro, Chimera, etc. or python libraries such as openmm and pbdfixer"
      ]
    },
    {
      "cell_type": "code",
      "execution_count": null,
      "metadata": {
        "id": "V38Re8v3StU-"
      },
      "outputs": [],
      "source": [
        "import py3Dmol\n",
        "# First we assign the py3Dmol.view as view\n",
        "view=py3Dmol.view()\n",
        "# The following lines are used to add the addModel class\n",
        "# to read the PDB files of chain B and C\n",
        "view.addModel(open('data/6vhn_prepared.pdb', 'r').read(),'pdb')\n",
        "view.addModel(open('data/6vhn.pdb', 'r').read(),'pdb')\n",
        "# Zooming into all visualized structures\n",
        "view.zoomTo()\n",
        "# Here we set the background color as white and set the cartoon style\n",
        "view.setBackgroundColor('white')\n",
        "view.setStyle({'model': -1}, {\"cartoon\": {'color': 'spectrum'}})\n",
        "# And we finally visualize the structures using the command below\n",
        "view.show()"
      ]
    },
    {
      "cell_type": "code",
      "execution_count": null,
      "metadata": {
        "id": "gs35lalNMuU4"
      },
      "outputs": [],
      "source": [
        "def read_pdb_with_ob(file):\n",
        "    \"\"\"Read a molecule file with open babel\n",
        "\n",
        "    Args:\n",
        "        file (Union[str os.PathLike]): pdb input file\n",
        "\n",
        "    Returns:\n",
        "        mols (list): list of molecules found in the input file\n",
        "    \"\"\"\n",
        "\n",
        "    try:\n",
        "        from openbabel import pybel\n",
        "    except ImportError:\n",
        "        raise ImportError(\"Pybel is required for reading openbabel molecules\")\n",
        "    mols = [m for m in pybel.readfile(format=\"pdb\",filename=file)]\n",
        "    return mols\n",
        "\n",
        "def prepare_ob_mols(ligand, outpath, overwrite=False):\n",
        "    from openbabel import pybel\n",
        "    out = pybel.Outputfile(format=\"pdbqt\" , filename=outpath,  overwrite=overwrite)\n",
        "    ligand.addh()\n",
        "    if not ligand.OBMol.HasNonZeroCoords():\n",
        "        ligand.make3D()\n",
        "    ligand.calccharges(model=\"gasteiger\")\n",
        "    out.write(ligand)\n",
        "    out.close()\n",
        "\n",
        "ligand_mol= read_pdb_with_ob(\"data/ligand.pdb\")\n"
      ]
    },
    {
      "cell_type": "code",
      "execution_count": null,
      "metadata": {
        "id": "dj8XV53oMuU5"
      },
      "outputs": [],
      "source": [
        "ligand_mol[0]"
      ]
    },
    {
      "cell_type": "code",
      "execution_count": null,
      "metadata": {
        "id": "8kgxyVtRMuU5"
      },
      "outputs": [],
      "source": [
        "prepare_ob_mols(ligand_mol[0], \"smina_inputs/ligand.pdbqt\", overwrite=True)"
      ]
    },
    {
      "cell_type": "code",
      "execution_count": null,
      "metadata": {
        "id": "IWaKMEAzMuU5"
      },
      "outputs": [],
      "source": [
        "prep=Preprocessor()\n",
        "prep.prepare_receptor(\"data/6vhn_prepared.pdb\", \"smina_inputs/receptor.pdbqt\")\n",
        "#prep.prepare_ligand(\"data/ligand.pdb\", \"smina_inputs/ligand.pdbqt\", in_format=\"pdb\")"
      ]
    },
    {
      "cell_type": "markdown",
      "source": [
        "## Binding box creation\n",
        "\n",
        "- _What is a binding box?_\n",
        "\n",
        "It is a three-dimensional area where the docking of small molecules into the protein is performed.\n",
        "The box defines the region of interest on the protein where we believe the small molecule ligand might interact.\n",
        "\n",
        "- _How do I know the binding box?_\n",
        "\n",
        "From the crystal structure most likely! In this case we are using the binded ligand to get the position of the binding box.\n",
        "\n",
        "- _What if I don't know the binding box?_\n",
        "\n",
        "Then we are doing blind docking and research about the docking site is needed. We can also utilize multiple binding boxes where we believe the punitive sites are.\n",
        "Methods to search for pockets like fpocket, convex hull or MD with fragments can be useful. Recent ML approaches such as [EquiBind](https://arxiv.org/abs/2202.05146) also aim to predict binding sites.\n"
      ],
      "metadata": {
        "id": "7GBrlkD09qzq"
      }
    },
    {
      "cell_type": "code",
      "execution_count": null,
      "metadata": {
        "id": "mozRc5DFMuU5"
      },
      "outputs": [],
      "source": [
        "ligand=mdtraj.load(\"data/ligand.pdb\")\n",
        "def create_box_from_ligand(ligand):\n",
        "    xyz=ligand.xyz[0] * 10  # convert to Angstrom from nm\n",
        "    pocket_center = (xyz.max(axis=0) + xyz.min(axis=0)) / 2\n",
        "    pocket_size = xyz.max(axis=0) - xyz.min(axis=0) + 5\n",
        "    return Box.from_array(pocket_center, pocket_size)\n",
        "\n",
        "box=create_box_from_ligand(ligand)\n",
        "box"
      ]
    },
    {
      "cell_type": "code",
      "execution_count": null,
      "metadata": {
        "id": "a7V00C0_MuU6"
      },
      "outputs": [],
      "source": [
        "from workshop_2_utils import Docking\n",
        "\n",
        "docker=Docking(\"smina_inputs/receptor.pdbqt\", box)\n"
      ]
    },
    {
      "cell_type": "code",
      "execution_count": null,
      "metadata": {
        "id": "h4NiJoLGMuU6"
      },
      "outputs": [],
      "source": [
        "os.makedirs(\"outputs\", exist_ok=True)\n",
        "text=docker.dock_one(\"smina_inputs/ligand.pdbqt\", \"outputs/ligand_out.sdf\")\n",
        "docker.parse_output(text)"
      ]
    },
    {
      "cell_type": "code",
      "execution_count": null,
      "metadata": {
        "id": "F0-LSU2DU3O7"
      },
      "outputs": [],
      "source": [
        "view = py3Dmol.view()\n",
        "view.addModel(open('data/6vhn_prepared.pdb', 'r').read())\n",
        "view.setStyle({'model': -1}, {\"cartoon\": {'color': 'spectrum'}})\n",
        "view.addModel(open('outputs/ligand_out.sdf', 'r').read())\n",
        "view.setStyle({'model': -1}, {\"stick\" :  {'color': \"yellow\"}})\n",
        "view.zoomTo()\n",
        "view.show()"
      ]
    },
    {
      "cell_type": "code",
      "execution_count": null,
      "metadata": {
        "id": "gUJGYjarMuU6"
      },
      "outputs": [],
      "source": [
        "poses=dm.read_sdf(\"outputs/ligand_out.sdf\", as_df=True, mol_column=\"mols\", n_jobs=-1)\n",
        "poses"
      ]
    },
    {
      "cell_type": "code",
      "execution_count": null,
      "metadata": {
        "id": "GdS2hg4iMuU6"
      },
      "outputs": [],
      "source": [
        "dm.viz.to_image(poses[\"mols\"])"
      ]
    },
    {
      "cell_type": "markdown",
      "source": [
        "### Let's try our hand with some real molecules"
      ],
      "metadata": {
        "id": "8Qy1TJZNsddw"
      }
    },
    {
      "cell_type": "code",
      "execution_count": null,
      "metadata": {
        "id": "2dA4w_gfMuU6"
      },
      "outputs": [],
      "source": [
        "import datamol as dm\n",
        "df_mols = dm.read_sdf(\"data/Enamine_Hinge_Binders_Library_plated_24000cmds_20210316%20(1).sdf\", as_df=True, mol_column=\"mols\", n_jobs=-1)\n",
        "docker.parse_mol_to_pbdqt(df_mols[\"mols\"][0]) # write mol as pdbqt\n",
        "\n"
      ]
    },
    {
      "cell_type": "code",
      "execution_count": null,
      "metadata": {
        "id": "QhcTk_quMuU6"
      },
      "outputs": [],
      "source": [
        "text=docker.dock_one(\"smina_inputs/mol_0.pdbqt\", \"outputs/poses_0.sdf\")\n",
        "docker.parse_output(text)\n",
        "poses=dm.read_sdf(\"outputs/poses_0.sdf\", as_df=True, mol_column=\"mols\", n_jobs=-1)\n",
        "poses"
      ]
    },
    {
      "cell_type": "code",
      "execution_count": null,
      "metadata": {
        "id": "ugidGC-FMuU6"
      },
      "outputs": [],
      "source": [
        "dm.viz.to_image(poses[\"mols\"])"
      ]
    },
    {
      "cell_type": "code",
      "execution_count": null,
      "metadata": {
        "id": "YVlFD6uyMuU6"
      },
      "outputs": [],
      "source": [
        "df_mols.head()"
      ]
    },
    {
      "cell_type": "code",
      "execution_count": null,
      "metadata": {
        "id": "kBl5b642bW4S"
      },
      "outputs": [],
      "source": [
        "df_mols[\"fp\"]=df_mols[\"mols\"].apply(lambda x : dm.to_fp(x))\n",
        "df_mols"
      ]
    },
    {
      "cell_type": "code",
      "execution_count": null,
      "metadata": {
        "id": "XWxY9aM2MuU6"
      },
      "outputs": [],
      "source": [
        "docker=Docking(\"smina_inputs/receptor.pdbqt\", box)"
      ]
    },
    {
      "cell_type": "code",
      "execution_count": null,
      "metadata": {
        "id": "ASb8dxeYMuU6"
      },
      "outputs": [],
      "source": [
        "docker.dock_multiple_mols(\n",
        "        df_mols[\"mols\"].tolist()[:5], list(range(5))\n",
        ")\n"
      ]
    },
    {
      "cell_type": "code",
      "execution_count": null,
      "metadata": {
        "id": "eV9WX3AVMuU6"
      },
      "outputs": [],
      "source": [
        "poses = dm.read_sdf(\"smina_outputs/poses.sdf\", as_df=True, mol_column=\"mols\", n_jobs=-1, sanitize=False)\n",
        "poses.sort_values(\"minimizedAffinity\",inplace=True)\n",
        "poses"
      ]
    },
    {
      "cell_type": "code",
      "execution_count": null,
      "metadata": {
        "id": "43DVaiO8MuU7"
      },
      "outputs": [],
      "source": [
        "dm.viz.to_image(poses[\"mols\"].tolist()[:10])"
      ]
    },
    {
      "cell_type": "code",
      "execution_count": null,
      "metadata": {
        "id": "CU705YRmAlSW"
      },
      "outputs": [],
      "source": [
        "from ipywidgets import interact, Dropdown\n",
        "\n",
        "def view_mol(molecule):\n",
        "  view = py3Dmol.view(\n",
        "      data=Chem.MolToMolBlock(molecule),\n",
        "      #style={\"sphere\": {\"scale\" : 0.3}}\n",
        "  )\n",
        "  view.setStyle({\"stick\" : {}})\n",
        "  view.addStyle({\"sphere\": {\"scale\" : 0.21}})\n",
        "  view.zoomTo()\n",
        "  return view.show()\n",
        "\n",
        "mols=poses[\"mols\"].tolist()\n",
        "affs=poses[\"minimizedAffinity\"].tolist()\n",
        "smiles=poses[\"smiles\"].tolist()\n",
        "\n",
        "dropdown = Dropdown(\n",
        "    options=[(f\"{smile}:{aff} kcal/mol\",mol) for aff,smile,mol in zip(affs,smiles,mols)],\n",
        "    value = mols[0], description=\"Selection\"\n",
        ")\n",
        "interact(\n",
        "    view_mol,\n",
        "    molecule=dropdown\n",
        ")"
      ]
    },
    {
      "cell_type": "code",
      "execution_count": null,
      "metadata": {
        "id": "qrdu80kYWr90"
      },
      "outputs": [],
      "source": [
        "\n",
        "def create_py3d_model(sdf_file):\n",
        "  molecules=dm.read_sdf(sdf_file, remove_hs=False)\n",
        "  view = py3Dmol.view()\n",
        "  view.addModel(open('data/6vhn_prepared.pdb', 'r').read())\n",
        "  view.setStyle({'model': -1}, {\"cartoon\": {'color': 'spectrum'}})\n",
        "  for mol in molecules:\n",
        "    view.addModel(Chem.MolToMolBlock(mol,confId=0), \"sdf\")\n",
        "    view.setStyle({'model': -1}, {\"stick\" :  {}})\n",
        "  view.zoomTo()\n",
        "  return view\n",
        "\n",
        "view=create_py3d_model(\"smina_outputs/poses.sdf\")\n",
        "view.show()\n",
        "\n"
      ]
    },
    {
      "cell_type": "markdown",
      "source": [
        "## Active Learning\n",
        "\n",
        "In Lab1, we have seen how to train ML models in a supervised manner. To do this we need:\n",
        "\n",
        "- Labeled data\n",
        "- A model\n",
        "\n",
        "In the drug-discovery pipeline, data and their labels tend to be scarce. Hence, structure-based drug discovery is often conducted in low-data regime as **generating new data is expensive** and time consuming.\n",
        "\n",
        "To tacke this problem, **active learning** is often used to choose the next samples to expensively annotate to learn better models.\n",
        "\n",
        "In this paradigm, the model actively selects the data that it will learn from. Instead of feeding it a predefined set of training data, the model has the ability to choose the most informative samples for its training, resulting in a more efficient and effective learning process.\n",
        "\n",
        "An **active learning** workflow usually involves the following components \\(Fig. 4\\):\n",
        "\n",
        "- A ML surrogate **model**\n",
        "- An **oracle** function to label unlabeled datapoints\n",
        "- An **objective** function to select the new samples to be labeled (maximizing the uncertainty, maximizing some score, or other, more complex functions)\n",
        "\n",
        "<img src=\"http://drive.google.com/uc?export=view&id=1FMDzm7pOt238ByYJwhiSHQkoqsA1EKqb\" alt=\"drawing\" width=\"500\"/>\n",
        "\n",
        "__Fig. 4:__ Generic active learning workflow\n"
      ],
      "metadata": {
        "id": "-nFvWI9jdFWh"
      }
    },
    {
      "cell_type": "markdown",
      "source": [
        "\n",
        "For this lab, we will construct a simple active learning loop to make the most out of a given budget of function calls to the (_somewhat_) expensive docking program _SMINA_.\n",
        "\n",
        "In the previous parts, we constructed the *oracle* function that will label the molecules. To complete the *active learning workflow*, we need a *model* and an *objective* function.\n",
        "\n",
        "- Model: We will use a simple Gaussian Process on ecfp fingerprints\n",
        "- Objective function: We will maximize the uncertainty of the GP on the binding free energy prediction\n",
        "\n"
      ],
      "metadata": {
        "id": "ZU2W1oMIi7bh"
      }
    },
    {
      "cell_type": "code",
      "execution_count": null,
      "metadata": {
        "id": "9r4ZhXK3MuU7"
      },
      "outputs": [],
      "source": [
        "def get_random_idxs(df, n=10, seed=42):\n",
        "    # Select molecules to create AL seed dataset\n",
        "    np.random.seed(seed)\n",
        "    return np.random.randint(0, len(df), n)\n",
        "\n",
        "\n",
        "df = init_df_fields(df_mols)\n",
        "df.head()"
      ]
    },
    {
      "cell_type": "code",
      "execution_count": null,
      "metadata": {
        "id": "1JhrCOhRMuU7"
      },
      "outputs": [],
      "source": [
        "from sklearn.gaussian_process.kernels import RBF\n",
        "\n",
        "def train_gp(df) -> GaussianProcessRegressor:\n",
        "    # retrieve for all labeled molecules the fingerprints and affinity labels\n",
        "    X = np.vstack(df[\"fp\"][df[\"sampled\"]>=1].tolist())\n",
        "    Y = np.vstack(df[\"true_affinity\"][df[\"sampled\"]>=1].tolist())\n",
        "    # fit GP\n",
        "    return GaussianProcessRegressor(kernel=RBF(length_scale=2.0,\n",
        "                                               length_scale_bounds=(1e-1, 20.0)),\n",
        "                                     random_state=0).fit(X,Y)\n",
        "\n",
        "def predict_with_gp(df, gp):\n",
        "    X = np.vstack(df[\"fp\"].tolist())\n",
        "    mean, std = gp.predict(X, return_std=True)\n",
        "    df[\"pred_affinity\"] = mean\n",
        "    df[\"uncertainty\"] = std\n",
        "    return df\n",
        "\n",
        "def samples_next(df, n: int = 10, sort_by_uncertainty = True) -> List[int]:\n",
        "    original_df = df\n",
        "    if sort_by_uncertainty:\n",
        "        # largest uncertainty on top (aquisition function)\n",
        "        ascending=False\n",
        "        name=\"uncertainty\"\n",
        "    else:\n",
        "        # best binders on top (most negative binding free energy)\n",
        "        ascending=True\n",
        "        name=\"pred_affinity\"\n",
        "    return df.sort_values(name, ascending=ascending)[\"idxs\"].tolist()[:n]\n",
        "\n"
      ]
    },
    {
      "cell_type": "code",
      "execution_count": null,
      "metadata": {
        "id": "BbpVhjFYfap6"
      },
      "outputs": [],
      "source": [
        "def get_results(output_dir, idxs):\n",
        "    # retrieve binding affinity of optimal conformer for all labeled molecules\n",
        "    values = []\n",
        "    key = \"minimizedAffinity\"\n",
        "    for idx in idxs:\n",
        "        poses = dm.read_sdf(os.path.join(output_dir, f\"poses_{idx}.sdf\"),\n",
        "                            as_df=True, mol_column=\"mols\", n_jobs=-1,\n",
        "                            sanitize=False)\n",
        "        poses = poses.sort_values(\"minimizedAffinity\",inplace=False)\n",
        "        values.append(poses[\"minimizedAffinity\"][0])\n",
        "    return values\n",
        "\n",
        "def format_df(df, affinities, sampled_idxs, iteration):\n",
        "    # save label from oracle\n",
        "    df[\"true_affinity\"][sampled_idxs] = affinities\n",
        "    df[\"sampled\"][sampled_idxs] = iteration\n",
        "    return df\n"
      ]
    },
    {
      "cell_type": "code",
      "execution_count": null,
      "metadata": {
        "id": "XmPSvzh7MuU7"
      },
      "outputs": [],
      "source": [
        "from copy import deepcopy\n",
        "\n",
        "N_OF_AL_ITERATIONS = 5\n",
        "FIRST_LOOP=True  # get random idxs at the first loop\n",
        "N_OF_ORACLE_CALLS=3  # AL batch size\n",
        "SELECT_BY_UNCERTAINTY=True\n",
        "SEED = 42\n",
        "\n",
        "docker=Docking(\"smina_inputs/receptor.pdbqt\", box, num_poses=3)\n",
        "\n",
        "ultimate_df = deepcopy(df)\n",
        "for iteration in range(N_OF_AL_ITERATIONS):\n",
        "    if FIRST_LOOP:\n",
        "        FIRST_LOOP = False\n",
        "        sampled_idxs= get_random_idxs(ultimate_df, n=N_OF_ORACLE_CALLS,\n",
        "                                      seed=SEED).tolist()\n",
        "\n",
        "    print(f\"Selected idxs: {sampled_idxs}\")\n",
        "\n",
        "    # Create iteration directory\n",
        "    output_dir = f\"al_loop_{iteration}\"\n",
        "    os.makedirs(output_dir,exist_ok=True)\n",
        "\n",
        "    # Select molecules to dock and dock them\n",
        "    # (really slow on colab)\n",
        "    mols_to_dock=ultimate_df[\"mols\"].to_numpy()[sampled_idxs]\n",
        "    docker.dock_multiple_mols(mols_to_dock, sampled_idxs, output_dir)\n",
        "\n",
        "    # Get and store results\n",
        "    affinities = get_results(output_dir, sampled_idxs)\n",
        "    print(f\"Obtained affinities in AL interation {iteration}: {affinities}\")\n",
        "    ultimate_df = format_df(ultimate_df, affinities, sampled_idxs, iteration+1)\n",
        "\n",
        "    # re-train and use surrogate model\n",
        "    GP = train_gp(ultimate_df)\n",
        "    ultimate_df = predict_with_gp(ultimate_df, GP)\n",
        "    sampled_idxs = samples_next(ultimate_df, N_OF_ORACLE_CALLS, SELECT_BY_UNCERTAINTY)\n",
        "\n",
        "\n"
      ]
    },
    {
      "cell_type": "markdown",
      "metadata": {
        "id": "dPHQ3aL1yPy_"
      },
      "source": [
        "# Lab2 Recap\n",
        "\n",
        "1. We have successfully run a small docked screening on the EGFR protein by preparing the protein and ligands, creating the binding box, running the docking and analyzing the results.\n",
        "\n",
        "2. We have created a simple Gaussian Process model to predict the binding affinity of the ligands.\n",
        "\n",
        "3. We have used Active Learning to optimize the docking surrogate model."
      ]
    },
    {
      "cell_type": "markdown",
      "source": [
        "## Discussion & Homework\n",
        "\n",
        "### Where to go next\n",
        "\n",
        "Classical docking software relies on hand\\-crafted, physics\\-inspired functional forms as well as classical optimization routines to find docking poses and predict binding affinity. Several ML directions aim to improve on this:\n",
        "\n",
        "- **DiffDock** trains a _diffusion model_ to predict the binding pose to _improve the accuracy of the pose_ and aims to _speed\\-up_ the prediction by avoiding the optimization scheme.\n",
        "- Several methods learn **ML scoring functions** using the PDBBind database to _improve the accuracy_ of the binding affinity prediction.\n",
        "- **AlphaFold3** co\\-folds the protein with the ligand within the binding site, reducing the need for high\\-quality protein _holo crystal structures_, which are assumed to be known by Docking approaches.\n"
      ],
      "metadata": {
        "id": "5ZXARzNN9Btl"
      }
    },
    {
      "cell_type": "markdown",
      "metadata": {
        "id": "-qsRNv_hyPy9"
      },
      "source": [
        "### Limitations\n",
        "\n",
        "* Docking programs can consider some _residue sidechains to be flexible_ during docking calculations to account for binding pocket flexibility. However, the _dynamic, adaptive nature_ of the protein\\-ligand binding and the contribution of the conformational entropy of the protein is insufficiently considered by protein\\-ligand docking. This can result in false positives: Even if the ligand finds a suitable pose in the binding pocket, _this position is not guaranteed_ until the protein is allowed to explore near\\-minima conformations. Hence, short _molecular dynamics \\(MD\\) simulations_ are recommended to evaluate the stability of the predicted binding pose ([https://doi.org/10.2174/157340911795677602](https://doi.org/10.2174/157340911795677602)\\).\n",
        "\n",
        "* **Scoring functions** used by docking programs must be _cheap to compute_. While the accuracy is good enough to distinguish good poses from bad poses, it can have _problems sorting the best poses_. For example, while most popular docking programs are able to find the experimental pose in their calculations, this pose is rarely the best one of the proposed set. Furthermore, several retrospective studies have shown that _docking scores often poorly correlate with binding affinity_ (https://doi.org/10.1021/jm050362n), (https://doi.org/10.1039/c6cp01555g).  \n",
        "\n",
        "* While blind docking is possible, in order to reduce computational cost, docking is often only performed on a subset of the protein \\(typically around a known binding pocket\\). _Choosing the correct binding site is a challenge_, if the binding pocket is not known a priori.\n",
        "\n",
        "* To maximize the accuracy of the calculation, the ligand and protein structures must be _prepared appropriately_. Protonation states of amino acids and the ligands can be tricky to get right, especially in the case of \\(potential\\) tautomers. This introduces yet another cause to obtain inaccurate results.\n",
        "\n",
        "Due to these limitations, Docking predictions tend to be not very accurate with a mean absolute error of 2.85 kcal/mol on PDBBind  [\\(Vina\\)](https://onlinelibrary.wiley.com/doi/10.1002/jcc.21334).\n",
        "\n",
        "<img src=\"http://drive.google.com/uc?export=view&id=1qiOvjc7RtUtV8sNFBzmvm5Oa01xTzLom\" alt=\"drawing\" width=\"800\"/>\n"
      ]
    },
    {
      "cell_type": "markdown",
      "source": [
        "#### Beyond Docking: Physically rigorous approaches using Molecular Dynamics\n",
        "\n",
        "Binding Affinity is a _complex property_ that depends on the protein-ligand interaction, the solvation free energy, and\n",
        "the entropy and enthalpy of the system. By only _considering a single frame_ of the optimally docked ligand conformation, the accuracy of Docking is inherently limited. In contrast, physically rigorous **free energy simulations** can model all of the phenomena outlined above. In particular, alchemical free energy methods such as free energy perturbation (**FEP**) have been highly successful in the last decade. To this end, **Molecular Dynamics** (MD) simulations are performed to sample the Boltzmann distribution of the protein-ligand complex, while continuously _turning off selection interactions_ between the protein and the ligand (much more complicated than that).\n",
        "\n",
        "The accuracy of the MD simulation (and consequently the accuracy of the binding free energy estimate) critically depends on the _employed force field_. While to date, almost all free energy simulations are performed using classical force fields, **neural network potentials** (NNPs) promise increased accuracy by modeling higher body-order interactions. However, due to the significantly increased computational cost of NNPs compared to classical force fields, this increases the need for (ML-supported) **enhanced sampling** schemes to speed-up MD simulations.\n",
        "\n",
        "Free energy simulations are much more expensive than Docking, increasing the demand for active learning approaches. Hence, **Active Learning FEP** is a promising research area."
      ],
      "metadata": {
        "id": "E1-czXMhaWze"
      }
    },
    {
      "cell_type": "markdown",
      "metadata": {
        "id": "BYeTAEAoyPy_"
      },
      "source": [
        "#### Improving the active learning loop\n",
        "\n",
        "The active learning loop and model we used for this workshop are quite simple and could be improved in several ways:\n",
        "\n",
        "1. ##### **Binding Affinity Prediction:**\n",
        "    \n",
        "We used a simple _Gaussian Process (GP) with a RBF kernel trained on fingerprints_ to predict the binding affinity.\n",
        "More sophisticated models could be used to improve the prediction accuracy.\n",
        "\n",
        "Binding Affinity is a complex property that depends on the _3D structure_ (and dynamics) of the protein-ligand complex. However, our GP surrogate model is not even taking into consideration any 3D information.\n",
        "Hence, using some _3D descriptors_ such as Smooth Overlap of Atomistic Position (SOAP) or Atomic Cluster Expansion (ACE) could improve the prediction.\n",
        "Instead of these hand-crafted 3D feature extraction functions, learned representations from _graph neural networks_ could further improve the surrogate model.\n",
        "\n",
        "2. ##### **Active Learning:**\n",
        "    \n",
        "We used a quite _simple aquisition function (max uncertainty)_. With this aquisition function, we are only interested in generating data such that our surrogate model improves fastest, i.e. we only care about _exploration_. However, if we are interested in finding suitable compounds as fast as possible, we can use more sophisticated acquisition functions to guide the optimization process in order to balance exploration and exploitation efforts.\n",
        "\n",
        "Some of the more commons acquisition functions are:\n",
        "\n",
        "\n",
        "- ##### _Probability of Improvement (PI)_\n",
        "\n",
        "How likely is the objective function value improving over our current optimum?\n",
        "\n",
        "\n",
        "<center><img src=\"http://drive.google.com/uc?export=view&id=10QDcY86Tn3tZRVZOQql5a45-KmssfDA-\" alt=\"drawing\" width=\"1200\"/></center>\n",
        "\n",
        "$$ PI(x) = \\psi\\Big( \\frac{\\mu(x) - f(x^+) - \\xi}{\\sigma(x)} \\Big),$$\n",
        "\n",
        "with 𝜇(𝑥)\n",
        " and 𝜎(𝑥) the mean and standard deviation of the regressor at 𝑥\n",
        ", 𝑓\n",
        " is the objective function to be optimized with estimated maximum at 𝑥+\n",
        "and 𝜉\n",
        " is a parameter controlling the exploration-exploitation tradeoff.  𝜓(𝑧)\n",
        " denotes the cumulative distribution function of a standard Gaussian distribution.\n",
        "\n",
        "- ##### _Expected Improvement (EI)_\n",
        "\n",
        "How much the onjective function can be expected to improve over our current optimum?\n",
        "\n",
        "<center><img src=\"http://drive.google.com/uc?export=view&id=17rHWb1869QkLe0GNoctYhxroEP8CfK52\" alt=\"drawing\" width=\"1200\"/></center>\n",
        "\n",
        "$$ \\begin{split}\\begin{align*}\n",
        "EI(x) = & (\\mu(x) - f(x^+) - \\xi) \\psi\\Big( \\frac{\\mu(x) - f(x^+) - \\xi}{\\sigma(x)} \\Big) \\\\\n",
        "& + \\sigma(x) \\phi\\Big( \\frac{\\mu(x) - f(x^+) - \\xi}{\\sigma(x)} \\Big),\n",
        "\\end{align*}\\end{split} $$\n",
        "\n",
        "Similar to the PI, but EI adds the probability density function 𝜙(𝑧) of a standard Gaussian distribution. EI takes into account the size of the improvement.\n",
        "\n",
        "\n",
        "- ##### _Upper Confidence Bound (UCB)_\n",
        "\n",
        "<center><img src=\"http://drive.google.com/uc?export=view&id=1D1M7_ymH8eM8NtBbejM1OIOcO0CBfVLJ\" alt=\"drawing\" width=\"1200\"/></center>\n",
        "\n",
        "$$ UCB(x) = \\mu(x) + \\beta \\sigma(x), $$\n",
        "\n",
        " 𝜇(𝑥)\n",
        " and 𝜎(𝑥)\n",
        " are the mean and standard deviation of the regressor and 𝛽\n",
        " is a parameter controlling the degree of exploration.\n",
        "\n",
        "---\n",
        "\n",
        "#### If you want to continue from here:\n",
        "\n",
        "- As an exercise, you can try to _implement one of these acquisition functions_ and compare the results with the max uncertainty\n",
        "approach while running a more in depth screening of the EGFR protein (from the day 1 Lab results).\n",
        "A useful library to implement these acquisition functions is modAL: A modular active learning framework for Python3 (! pip install modAL-python).\n",
        "\n",
        "- Can we build a more _sophisticated surrogate model_ such as a neural network to predict the binding affinity?\n",
        "\n",
        "- From the 100 molecules from the screening of Lab1, can we screen down to 10 _good_ molecules?\n"
      ]
    },
    {
      "cell_type": "code",
      "execution_count": null,
      "metadata": {
        "id": "FyUtl1VsyPy_"
      },
      "outputs": [],
      "source": []
    },
    {
      "cell_type": "markdown",
      "metadata": {
        "id": "nohH4ZeByPy_"
      },
      "source": []
    }
  ],
  "metadata": {
    "colab": {
      "private_outputs": true,
      "provenance": []
    },
    "kernelspec": {
      "display_name": "Python 3 (ipykernel)",
      "language": "python",
      "name": "python3"
    },
    "language_info": {
      "codemirror_mode": {
        "name": "ipython",
        "version": 3
      },
      "file_extension": ".py",
      "mimetype": "text/x-python",
      "name": "python",
      "nbconvert_exporter": "python",
      "pygments_lexer": "ipython3",
      "version": "3.12.3"
    }
  },
  "nbformat": 4,
  "nbformat_minor": 0
}